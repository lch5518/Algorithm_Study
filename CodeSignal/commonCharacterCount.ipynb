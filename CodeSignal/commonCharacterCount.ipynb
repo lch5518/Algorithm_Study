{
 "cells": [
  {
   "cell_type": "markdown",
   "metadata": {},
   "source": [
    "* Given two strings, find the number of common characters between them.\n",
    "\n",
    "## Example\n",
    "For s1 = \"aabcc\" and s2 = \"adcaa\", the output should be\n",
    "commonCharacterCount(s1, s2) = 3.\n",
    "\n",
    "Strings have 3 common characters - 2 \"a\"s and 1 \"c\"."
   ]
  },
  {
   "cell_type": "code",
   "execution_count": 19,
   "metadata": {},
   "outputs": [],
   "source": [
    "def commonCharacterCount(s1, s2):\n",
    "    cc = []\n",
    "    for i in set(s1):\n",
    "        cc.append(min(s1.count(i),s2.count(i)))\n",
    "    return sum(cc)"
   ]
  },
  {
   "cell_type": "code",
   "execution_count": 21,
   "metadata": {},
   "outputs": [
    {
     "data": {
      "text/plain": [
       "3"
      ]
     },
     "execution_count": 21,
     "metadata": {},
     "output_type": "execute_result"
    }
   ],
   "source": [
    "commonCharacterCount('aabcc','adcaa')"
   ]
  },
  {
   "cell_type": "code",
   "execution_count": 20,
   "metadata": {},
   "outputs": [
    {
     "data": {
      "text/plain": [
       "4"
      ]
     },
     "execution_count": 20,
     "metadata": {},
     "output_type": "execute_result"
    }
   ],
   "source": [
    "commonCharacterCount('zzzz','zzzzzzz')"
   ]
  }
 ],
 "metadata": {
  "kernelspec": {
   "display_name": "Python 3",
   "language": "python",
   "name": "python3"
  },
  "language_info": {
   "codemirror_mode": {
    "name": "ipython",
    "version": 3
   },
   "file_extension": ".py",
   "mimetype": "text/x-python",
   "name": "python",
   "nbconvert_exporter": "python",
   "pygments_lexer": "ipython3",
   "version": "3.7.3"
  }
 },
 "nbformat": 4,
 "nbformat_minor": 2
}
