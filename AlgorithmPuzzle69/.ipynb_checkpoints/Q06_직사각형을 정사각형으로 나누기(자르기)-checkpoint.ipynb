{
 "cells": [
  {
   "cell_type": "markdown",
   "metadata": {},
   "source": [
    "예를 들어 8 * 5의 직사각형 종이가 있을 때, 5 * 5의 정사각형으로 자르면 3 * 5의 직사각형이 남게 됩니다. 남은 3 * 5의 정사각형을 다시 3 * 3의 정사각형으로 자르면 3 * 2의 직사각형이 남습니다. 이를 2 * 2의 정사각형으로 자르면 1 * 2의 직사각형이 남으므로, 마지막으로 1 * 1의 정사각형이 2개가 됩니다. 따라서 최종적으로 5개의 정사각형이 만들어 집니다. "
   ]
  },
  {
   "cell_type": "markdown",
   "metadata": {},
   "source": [
    "![img](img/06_ex.jpg)\n",
    "* 잠자는 코딩 브레인을 깨우는 알고리즘 퍼즐 69 / p56"
   ]
  },
  {
   "cell_type": "markdown",
   "metadata": {},
   "source": [
    "## 문제\n",
    "긴 변의 길이가 1,000 이하에서 만들어질 수 있는 정사각형 개수가 딱 20개인 직사각형의 가로세로 길이 쌍이 몇 쌍인지 구하시오. 이 때 직사각형의 가로세로 길이를 바꾼 경우는 하나로 취급합니다.\n",
    "* 3 * 2 == 2 * 3"
   ]
  },
  {
   "cell_type": "code",
   "execution_count": 8,
   "metadata": {},
   "outputs": [],
   "source": [
    "W, N = 1000, 20"
   ]
  },
  {
   "cell_type": "code",
   "execution_count": 9,
   "metadata": {},
   "outputs": [],
   "source": [
    "def cnt(w, h, n):\n",
    "    if w == h: # 정사각형\n",
    "        return n == 0\n",
    "    if w > h:\n",
    "        w, h = h, w\n",
    "    \n",
    "    q, r = divmod(h, w)\n",
    "    \n",
    "    if (n - q < 0) or (r == 0):\n",
    "        return (n - q) == 0\n",
    "    else:\n",
    "        return cnt(w, r, n - q)"
   ]
  },
  {
   "cell_type": "code",
   "execution_count": 10,
   "metadata": {},
   "outputs": [],
   "source": [
    "count = 0\n",
    "for i in range(1, W + 1):   # 짧은 변\n",
    "    for j in range(i, W + 1):  # 긴 변\n",
    "        if cnt(i, j, N):\n",
    "            count += 1"
   ]
  },
  {
   "cell_type": "code",
   "execution_count": 11,
   "metadata": {},
   "outputs": [
    {
     "data": {
      "text/plain": [
       "26882"
      ]
     },
     "execution_count": 11,
     "metadata": {},
     "output_type": "execute_result"
    }
   ],
   "source": [
    "count"
   ]
  }
 ],
 "metadata": {
  "kernelspec": {
   "display_name": "Python 3",
   "language": "python",
   "name": "python3"
  },
  "language_info": {
   "codemirror_mode": {
    "name": "ipython",
    "version": 3
   },
   "file_extension": ".py",
   "mimetype": "text/x-python",
   "name": "python",
   "nbconvert_exporter": "python",
   "pygments_lexer": "ipython3",
   "version": "3.7.4"
  }
 },
 "nbformat": 4,
 "nbformat_minor": 2
}
