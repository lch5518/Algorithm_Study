{
 "cells": [
  {
   "cell_type": "markdown",
   "metadata": {},
   "source": [
    "### Ratiorg got statues of different sizes as a present from CodeMaster for his birthday, each statue having an non-negative integer size. Since he likes to make things perfect, he wants to arrange them from smallest to largest so that each statue will be bigger than the previous one exactly by 1. He may need some additional statues to be able to accomplish that. Help him figure out the minimum number of additional statues needed."
   ]
  },
  {
   "cell_type": "markdown",
   "metadata": {},
   "source": [
    "## Example\n",
    "For statues = [6, 2, 3, 8], the output should be\n",
    "makeArrayConsecutive2(statues) = 3.\n",
    "\n",
    "Ratiorg needs statues of sizes 4, 5 and 7."
   ]
  },
  {
   "cell_type": "code",
   "execution_count": 45,
   "metadata": {},
   "outputs": [
    {
     "data": {
      "text/plain": [
       "2"
      ]
     },
     "execution_count": 45,
     "metadata": {},
     "output_type": "execute_result"
    }
   ],
   "source": [
    "def makeArrayConsecutive2(statues):\n",
    "    smallest = min(statues)\n",
    "    largest = max(statues)\n",
    "    count = 0\n",
    "    for i in range(smallest,largest):\n",
    "        if(not i in (statues)):\n",
    "            count += 1\n",
    "    return count\n",
    "           \n",
    "makeArrayConsecutive2([0,3])"
   ]
  },
  {
   "cell_type": "code",
   "execution_count": 30,
   "metadata": {},
   "outputs": [],
   "source": [
    "# def makeArrayConsecutive2(statues):\n",
    "#     count = 0\n",
    "#     temp = 0\n",
    "#     for i in range(len(statues)-1):\n",
    "#         if(statues[i]>statues[i+1]):\n",
    "#             temp = statues[i]\n",
    "#             statues[i] = statues[i+1]\n",
    "#             statues[i+1] = temp\n",
    "#     for j in range(len(statues)-1):\n",
    "#         if(statues[j+1] != statues[j]+1):\n",
    "#             for z in range(statues[j+1]-statues[j]-1):\n",
    "#                 count += 1\n",
    "#     return count"
   ]
  },
  {
   "cell_type": "code",
   "execution_count": 33,
   "metadata": {},
   "outputs": [
    {
     "data": {
      "text/plain": [
       "3"
      ]
     },
     "execution_count": 33,
     "metadata": {},
     "output_type": "execute_result"
    }
   ],
   "source": [
    "makeArrayConsecutive2([6, 2, 3, 8])"
   ]
  },
  {
   "cell_type": "code",
   "execution_count": 34,
   "metadata": {},
   "outputs": [
    {
     "data": {
      "text/plain": [
       "2"
      ]
     },
     "execution_count": 34,
     "metadata": {},
     "output_type": "execute_result"
    }
   ],
   "source": [
    "makeArrayConsecutive2([0,3])"
   ]
  },
  {
   "cell_type": "code",
   "execution_count": 35,
   "metadata": {},
   "outputs": [
    {
     "data": {
      "text/plain": [
       "0"
      ]
     },
     "execution_count": 35,
     "metadata": {},
     "output_type": "execute_result"
    }
   ],
   "source": [
    "makeArrayConsecutive2([5,4,6])"
   ]
  },
  {
   "cell_type": "code",
   "execution_count": 37,
   "metadata": {},
   "outputs": [
    {
     "data": {
      "text/plain": [
       "19"
      ]
     },
     "execution_count": 37,
     "metadata": {},
     "output_type": "execute_result"
    }
   ],
   "source": [
    "makeArrayConsecutive2([0, 20])"
   ]
  }
 ],
 "metadata": {
  "kernelspec": {
   "display_name": "Python 3",
   "language": "python",
   "name": "python3"
  },
  "language_info": {
   "codemirror_mode": {
    "name": "ipython",
    "version": 3
   },
   "file_extension": ".py",
   "mimetype": "text/x-python",
   "name": "python",
   "nbconvert_exporter": "python",
   "pygments_lexer": "ipython3",
   "version": "3.6.5"
  }
 },
 "nbformat": 4,
 "nbformat_minor": 2
}
