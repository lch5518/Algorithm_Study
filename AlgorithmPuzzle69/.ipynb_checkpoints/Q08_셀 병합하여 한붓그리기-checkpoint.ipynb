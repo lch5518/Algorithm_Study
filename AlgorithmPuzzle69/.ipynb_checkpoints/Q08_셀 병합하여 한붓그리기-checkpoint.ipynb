{
 "cells": [
  {
   "cell_type": "markdown",
   "metadata": {},
   "source": [
    "## 문제\n",
    "가로로 10개, 세로로 10개인 셀이 있을 때, 세릉ㄹ 병합해서 만들 수 있는 형태 중에서 한붓그리기를 할 수 이쓴ㄴ 형태는 모두 몇 가지인지 구하시오. 참고로 병합하지 않아도 한붓그리기를 할 수 있는 경우, 해당 모양도 포함합니다.(위아래, 왼쪽 오른쪽으로 반전하는 경우도 각각 포함합니다.)"
   ]
  },
  {
   "cell_type": "markdown",
   "metadata": {},
   "source": [
    "#### tip\n",
    " 한붓그리기가 가능한지 확인하는 방법 : 각 정점에 연결된 선의 개수(차수, degree)를 세자<br>\n",
    " * 모든 정점의 차수가 짝수\n",
    " * 차수가 홀수인 정점이 딱 2개"
   ]
  },
  {
   "cell_type": "markdown",
   "metadata": {},
   "source": [
    "(X-1) + (Y-1) + 1 = X + Y - 1"
   ]
  },
  {
   "cell_type": "code",
   "execution_count": 1,
   "metadata": {},
   "outputs": [
    {
     "data": {
      "text/plain": [
       "19"
      ]
     },
     "execution_count": 1,
     "metadata": {},
     "output_type": "execute_result"
    }
   ],
   "source": [
    "X, Y = 10, 10\n",
    "print(X + Y - 1, )"
   ]
  }
 ],
 "metadata": {
  "kernelspec": {
   "display_name": "Python 3",
   "language": "python",
   "name": "python3"
  },
  "language_info": {
   "codemirror_mode": {
    "name": "ipython",
    "version": 3
   },
   "file_extension": ".py",
   "mimetype": "text/x-python",
   "name": "python",
   "nbconvert_exporter": "python",
   "pygments_lexer": "ipython3",
   "version": "3.7.4"
  }
 },
 "nbformat": 4,
 "nbformat_minor": 2
}
