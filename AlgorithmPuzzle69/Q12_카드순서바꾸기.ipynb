{
 "cells": [
  {
   "cell_type": "markdown",
   "metadata": {},
   "source": [
    " 1부터 차례대로 숫자가 1개씩 적힌 카드가 있습니다. 카드는 일렬로 나란히 있고, 가장 왼쪽 카드에 적혀 있는 숫자를 보고, 해당 숫자만큼의 카드를 왼쪽에서부터 선택하여 순서를 반전합니다.\n",
    "  이 작업을 왼쪽 끝이 1이 될 때까지 반복합니다. 예를 들어 '1~4'까지 4장이 있고, 처음 정렬 상태가 '3 4 2 1' 이라면, 다음과 같이 3번 반복하고 나서 중지됩니다."
   ]
  },
  {
   "cell_type": "markdown",
   "metadata": {},
   "source": [
    "3421 -> 2431 -> 4231 -> 1324"
   ]
  },
  {
   "cell_type": "markdown",
   "metadata": {},
   "source": [
    "## 문제\n",
    "1~9까지의 숫자가 적힌 9장의 카드로, 이와 같은 처리를 반복한다고 합시다. 처리를 5번 반복해서 끝나는 경우가 몇 가지인지 구하시오."
   ]
  },
  {
   "cell_type": "markdown",
   "metadata": {},
   "source": [
    "* 문제 그대로 구형하면 시간이 너무 오래걸림..ㅠ"
   ]
  },
  {
   "cell_type": "code",
   "execution_count": 3,
   "metadata": {},
   "outputs": [],
   "source": [
    "# 순열 계산할 라이브러리 불러오기\n",
    "from itertools import permutations"
   ]
  },
  {
   "cell_type": "code",
   "execution_count": 5,
   "metadata": {},
   "outputs": [
    {
     "name": "stdout",
     "output_type": "stream",
     "text": [
      "['ABC', 'ACB', 'BAC', 'BCA', 'CAB', 'CBA']\n",
      "['AB', 'AC', 'BA', 'BC', 'CA', 'CB']\n"
     ]
    }
   ],
   "source": [
    "# permutations 예제\n",
    "pool = ['A', 'B', 'C']\n",
    "print(list(map(''.join, permutations(pool)))) # 3개의 원소로 수열 만들기\n",
    "print(list(map(''.join, permutations(pool, 2)))) # 2개의 원소로 수열 만들기"
   ]
  },
  {
   "cell_type": "code",
   "execution_count": 7,
   "metadata": {},
   "outputs": [
    {
     "name": "stdout",
     "output_type": "stream",
     "text": [
      "('A', 'B', 'C')\n",
      "('A', 'C', 'B')\n",
      "('B', 'A', 'C')\n",
      "('B', 'C', 'A')\n",
      "('C', 'A', 'B')\n",
      "('C', 'B', 'A')\n"
     ]
    }
   ],
   "source": [
    "for i in permutations(list(pool)):\n",
    "    print(i)"
   ]
  },
  {
   "cell_type": "markdown",
   "metadata": {},
   "source": [
    "## 풀이"
   ]
  },
  {
   "cell_type": "code",
   "execution_count": 8,
   "metadata": {},
   "outputs": [],
   "source": [
    "from itertools import permutations"
   ]
  },
  {
   "cell_type": "code",
   "execution_count": 18,
   "metadata": {},
   "outputs": [],
   "source": [
    "M, N = 9, 5"
   ]
  },
  {
   "cell_type": "code",
   "execution_count": 19,
   "metadata": {},
   "outputs": [],
   "source": [
    "# 왼쪽 끝이 1인 경우 생성하기\n",
    "seq = []\n",
    "for a in permutations(list(range(2, M + 1)), M - 1):\n",
    "    seq.append([1] + list(a))"
   ]
  },
  {
   "cell_type": "code",
   "execution_count": 20,
   "metadata": {},
   "outputs": [],
   "source": [
    "log = []\n",
    "log.append(seq)"
   ]
  },
  {
   "cell_type": "code",
   "execution_count": 21,
   "metadata": {},
   "outputs": [],
   "source": [
    "# N회 이동\n",
    "for i in range(0, N):\n",
    "    seq = []\n",
    "    for a in log[i]:\n",
    "        for j in range(1, M):\n",
    "            if a[j] == j + 1:\n",
    "                # 정렬을 반대로 만들기\n",
    "                seq.append(list(reversed(a[0:(j + 1)])) + a[(j + 1):])\n",
    "    log.append(seq)"
   ]
  },
  {
   "cell_type": "code",
   "execution_count": 22,
   "metadata": {},
   "outputs": [
    {
     "name": "stdout",
     "output_type": "stream",
     "text": [
      "28692\n"
     ]
    }
   ],
   "source": [
    "print(len(log[N]))"
   ]
  },
  {
   "cell_type": "code",
   "execution_count": null,
   "metadata": {},
   "outputs": [],
   "source": []
  },
  {
   "cell_type": "code",
   "execution_count": null,
   "metadata": {},
   "outputs": [],
   "source": []
  },
  {
   "cell_type": "code",
   "execution_count": 64,
   "metadata": {},
   "outputs": [
    {
     "data": {
      "text/plain": [
       "['c', 'b', 'a']"
      ]
     },
     "execution_count": 64,
     "metadata": {},
     "output_type": "execute_result"
    }
   ],
   "source": [
    "# reversed 예제\n",
    "l = ['a', 'b', 'c']\n",
    "list(reversed(l))"
   ]
  },
  {
   "cell_type": "code",
   "execution_count": 85,
   "metadata": {},
   "outputs": [
    {
     "data": {
      "text/plain": [
       "8"
      ]
     },
     "execution_count": 85,
     "metadata": {},
     "output_type": "execute_result"
    }
   ],
   "source": [
    "1 << 3 # 비트연산 0001 -> 1000"
   ]
  },
  {
   "cell_type": "code",
   "execution_count": 95,
   "metadata": {},
   "outputs": [],
   "source": [
    "M, N = 9, 5\n",
    "\n",
    "# seq : 카드 배열 상태\n",
    "# used : 사용한 카드(비트열)\n",
    "# n : 이동 횟수\n",
    "\n",
    "def search(seq, used, n):\n",
    "    if n == 0:\n",
    "        # 탐색이 완료되었다면 남은 개수의 계승을 반환\n",
    "        result = 1\n",
    "        cnt = len(list(filter(lambda x : x == 0, seq)))\n",
    "        for i in range(1, cnt + 1):\n",
    "            result *= i\n",
    "        return result\n",
    "    \n",
    "    cnt = 0\n",
    "    for i in range(1, M):\n",
    "        # 정렬을 반대로 만들기\n",
    "        new_seq = list(reversed(seq[:i+1]))\n",
    "        new_seq = new_seq + seq[i + 1:]\n",
    "        if (seq[i] == 0) and (used & (1 << i)) == 0:\n",
    "            new_seq[0] = i + 1\n",
    "            cnt += search(new_seq, used | (1 << i), n - 1)\n",
    "        elif (seq[i] == i + 1):\n",
    "            cnt += search(new_seq, used, n - 1)\n",
    "    return cnt"
   ]
  },
  {
   "cell_type": "code",
   "execution_count": 96,
   "metadata": {},
   "outputs": [],
   "source": [
    "seq = [0] * M\n",
    "seq[0] = 1"
   ]
  },
  {
   "cell_type": "code",
   "execution_count": 97,
   "metadata": {},
   "outputs": [
    {
     "data": {
      "text/plain": [
       "28692"
      ]
     },
     "execution_count": 97,
     "metadata": {},
     "output_type": "execute_result"
    }
   ],
   "source": [
    "search(seq, 1, N)"
   ]
  }
 ],
 "metadata": {
  "kernelspec": {
   "display_name": "Python 3",
   "language": "python",
   "name": "python3"
  },
  "language_info": {
   "codemirror_mode": {
    "name": "ipython",
    "version": 3
   },
   "file_extension": ".py",
   "mimetype": "text/x-python",
   "name": "python",
   "nbconvert_exporter": "python",
   "pygments_lexer": "ipython3",
   "version": "3.7.3"
  }
 },
 "nbformat": 4,
 "nbformat_minor": 2
}
