{
 "cells": [
  {
   "cell_type": "markdown",
   "metadata": {},
   "source": [
    " 올림픽 개최지는 IOC위원의 투표루 정해집니다. 2016년 개최지는 4개의 도시 중에서 3회의 투표로 브라질 리우, 2020년 개최지는 3개의 도시 중에서 3회의 투표로 일본 도쿄가 정해졌습니다.\n",
    " \n",
    " 개최지를 선정할 때는 '반복 최하위 제거 규칙'을 사용합니다. 가장 많은 투표를 받은 지역이 과반수를 넘어 이겼다면, 곧바로 개최지로 선정합니다.\n",
    " \n",
    " 하지만 과반수를 넘지 못했을 경우, 꼴찌(최하위)를 제외하고 다시 투표합니다. 과반수 이상의 투표가 나올 때까지 이 방법을 반복하는 것이빈다.\n",
    " \n",
    "  이 때, 만약 꼴찌가 여럿 있다면, 반대로 꼴지들을 가지고 다시 투표해서 꼴찌가 한 곳으로 결정되어 탈락시킬 때까지도 반복합니다. 즉, 꼴찌들을 가지고 다시 투표했을때 최하위가 과반수를 넘으면 돋바로 탈락시키고, 과반수를 넘지 않는다면 그중 최상위를 제외하고 다시 꼴찌를 가리는 투표를 합니다."
   ]
  },
  {
   "cell_type": "markdown",
   "metadata": {},
   "source": [
    "## 문제\n",
    "후보지가 7개 있고 투표할 수 있을 만큼 충분히 많은 사람이 있을 때, 최종적으로 1개의 후보지가 결정될 때까지 나올 수 있는 패턴 수가 모두 몇 가지인지 구하지오. 다만, 투표를 했을 때 모든 후보지가 같은 표를 받는 경우는 없다고 합시다."
   ]
  },
  {
   "cell_type": "code",
   "execution_count": 1,
   "metadata": {},
   "outputs": [],
   "source": [
    "N = 7"
   ]
  },
  {
   "cell_type": "code",
   "execution_count": 2,
   "metadata": {},
   "outputs": [],
   "source": [
    "def vote(n):\n",
    "    if n <= 2:    # 후보지가 2개 이하일 경우\n",
    "        return 1 \n",
    "    cnt = 1             # 1개가 과반수 이상\n",
    "    cnt += vote(n - 1)  # 1개가 탈락\n",
    "    \n",
    "    for i in range(2, n): # 하위 i개가 동점인 경우 \n",
    "        # 하위 i개에서 1개를 선택하고, 남은 n-1개로 다시 투표\n",
    "        cnt += vote(i) * vote(n-1)\n",
    "    return cnt"
   ]
  },
  {
   "cell_type": "code",
   "execution_count": 4,
   "metadata": {},
   "outputs": [
    {
     "data": {
      "text/plain": [
       "14598890236"
      ]
     },
     "execution_count": 4,
     "metadata": {},
     "output_type": "execute_result"
    }
   ],
   "source": [
    "vote(N)"
   ]
  },
  {
   "cell_type": "markdown",
   "metadata": {},
   "source": [
    "위의 코드에서는 n-1개의 투표를 확인하는 부분이 여러번 반복되고 있다.<br>\n",
    "동적계획법과 메모화를 사용해보자"
   ]
  },
  {
   "cell_type": "code",
   "execution_count": 5,
   "metadata": {},
   "outputs": [],
   "source": [
    "def vote(n):\n",
    "    if n <= 2:    # 후보지가 2개 이하일 경우\n",
    "        return 1 \n",
    "    v1 = vote(n-1)  # 남은 n-1개로 투표\n",
    "    v2 = 0\n",
    "    for i in range(2, n): \n",
    "        v2 += vote(i)\n",
    "    return 1 + v1 + v2 * v1"
   ]
  },
  {
   "cell_type": "code",
   "execution_count": 6,
   "metadata": {},
   "outputs": [
    {
     "data": {
      "text/plain": [
       "14598890236"
      ]
     },
     "execution_count": 6,
     "metadata": {},
     "output_type": "execute_result"
    }
   ],
   "source": [
    "vote(N)"
   ]
  }
 ],
 "metadata": {
  "kernelspec": {
   "display_name": "Python 3",
   "language": "python",
   "name": "python3"
  },
  "language_info": {
   "codemirror_mode": {
    "name": "ipython",
    "version": 3
   },
   "file_extension": ".py",
   "mimetype": "text/x-python",
   "name": "python",
   "nbconvert_exporter": "python",
   "pygments_lexer": "ipython3",
   "version": "3.7.3"
  }
 },
 "nbformat": 4,
 "nbformat_minor": 2
}
