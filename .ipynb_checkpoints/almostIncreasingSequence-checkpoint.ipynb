{
 "cells": [
  {
   "cell_type": "markdown",
   "metadata": {},
   "source": [
    "### Given a sequence of integers as an array, determine whether it is possible to obtain a strictly increasing sequence by removing no more than one element from the array.\n",
    "<br>\n",
    "\n",
    "#### Note: sequence a0, a1, ..., an is considered to be a strictly increasing if a0 < a1 < ... < an. Sequence containing only one element is also considered to be strictly increasing.\n",
    "<br>\n",
    "\n",
    "## Example\n",
    "* For sequence = [1, 3, 2, 1], the output should be\n",
    "    almostIncreasingSequence(sequence) = false.\n",
    "\n",
    "There is no one element in this array that can be removed in order to get a strictly increasing sequence.\n",
    "\n",
    "* For sequence = [1, 3, 2], the output should be\n",
    "almostIncreasingSequence(sequence) = true.\n",
    "\n",
    "You can remove 3 from the array to get the strictly increasing sequence [1, 2]. Alternately, you can remove 2 to get the strictly increasing sequence [1, 3]."
   ]
  },
  {
   "cell_type": "code",
   "execution_count": 43,
   "metadata": {},
   "outputs": [],
   "source": [
    "# 깔끔한 풀이\n",
    "def almostIncreasingSequence(sequence):\n",
    "    t = False\n",
    "    last = prev = min(sequence) - 1\n",
    "    for i in sequence:\n",
    "        if i <= last:\n",
    "            if t:\n",
    "                return False\n",
    "            else:\n",
    "                t = True\n",
    "            if i <= prev:\n",
    "                prev = last\n",
    "            elif i >= prev:\n",
    "                prev = last = i\n",
    "        else:\n",
    "            prev, last = last, i\n",
    "    return True"
   ]
  },
  {
   "cell_type": "code",
   "execution_count": 31,
   "metadata": {},
   "outputs": [],
   "source": [
    "# 이게뭐지..\n",
    "def almostIncreasingSequence(sequence):\n",
    "    return 3> sum((i >= j) + (i >= k) for i, j, k in zip(sequence, sequence[1:], sequence[2:] + [10**6]))"
   ]
  },
  {
   "cell_type": "code",
   "execution_count": 39,
   "metadata": {},
   "outputs": [
    {
     "data": {
      "text/plain": [
       "True"
      ]
     },
     "execution_count": 39,
     "metadata": {},
     "output_type": "execute_result"
    }
   ],
   "source": [
    "almostIncreasingSequence([1,3,2])"
   ]
  },
  {
   "cell_type": "code",
   "execution_count": 40,
   "metadata": {},
   "outputs": [
    {
     "data": {
      "text/plain": [
       "True"
      ]
     },
     "execution_count": 40,
     "metadata": {},
     "output_type": "execute_result"
    }
   ],
   "source": [
    "almostIncreasingSequence([10, 1, 2, 3, 4, 5])"
   ]
  },
  {
   "cell_type": "code",
   "execution_count": 44,
   "metadata": {},
   "outputs": [
    {
     "data": {
      "text/plain": [
       "False"
      ]
     },
     "execution_count": 44,
     "metadata": {},
     "output_type": "execute_result"
    }
   ],
   "source": [
    "almostIncreasingSequence([1, 3, 2, 1])"
   ]
  },
  {
   "cell_type": "code",
   "execution_count": 45,
   "metadata": {},
   "outputs": [
    {
     "data": {
      "text/plain": [
       "False"
      ]
     },
     "execution_count": 45,
     "metadata": {},
     "output_type": "execute_result"
    }
   ],
   "source": [
    "almostIncreasingSequence([1, 2, 1, 2])"
   ]
  }
 ],
 "metadata": {
  "kernelspec": {
   "display_name": "Python 3",
   "language": "python",
   "name": "python3"
  },
  "language_info": {
   "codemirror_mode": {
    "name": "ipython",
    "version": 3
   },
   "file_extension": ".py",
   "mimetype": "text/x-python",
   "name": "python",
   "nbconvert_exporter": "python",
   "pygments_lexer": "ipython3",
   "version": "3.6.5"
  }
 },
 "nbformat": 4,
 "nbformat_minor": 2
}
