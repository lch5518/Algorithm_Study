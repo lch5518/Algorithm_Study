{
 "cells": [
  {
   "cell_type": "markdown",
   "metadata": {},
   "source": [
    "https://programmers.co.kr/learn/courses/30/lessons/42840"
   ]
  },
  {
   "cell_type": "markdown",
   "metadata": {},
   "source": [
    "### 문제설명\n",
    "수포자는 수학을 포기한 사람의 준말입니다. 수포자 삼인방은 모의고사에 수학 문제를 전부 찍으려 합니다. 수포자는 1번 문제부터 마지막 문제까지 다음과 같이 찍습니다.\n",
    "\n",
    "1번 수포자가 찍는 방식: 1, 2, 3, 4, 5, 1, 2, 3, 4, 5, ...<br>\n",
    "2번 수포자가 찍는 방식: 2, 1, 2, 3, 2, 4, 2, 5, 2, 1, 2, 3, 2, 4, 2, 5, ...<br>\n",
    "3번 수포자가 찍는 방식: 3, 3, 1, 1, 2, 2, 4, 4, 5, 5, 3, 3, 1, 1, 2, 2, 4, 4, 5, 5, ...<br><br>\n",
    "\n",
    "1번 문제부터 마지막 문제까지의 정답이 순서대로 들은 배열 answers가 주어졌을 때, 가장 많은 문제를 맞힌 사람이 누구인지 배열에 담아 return 하도록 solution 함수를 작성해주세요.<br><br>\n",
    "\n",
    "[제한 조건]<br>\n",
    "시험은 최대 10,000 문제로 구성되어있습니다.<br>\n",
    "문제의 정답은 1, 2, 3, 4, 5중 하나입니다.<br>\n",
    "가장 높은 점수를 받은 사람이 여럿일 경우, return하는 값을 오름차순 정렬해주세요.\n"
   ]
  },
  {
   "cell_type": "code",
   "execution_count": 19,
   "metadata": {},
   "outputs": [],
   "source": [
    "def solution(answers):\n",
    "    answer = []\n",
    "    use1 = []\n",
    "    use2 = []\n",
    "    use3 = []\n",
    "    result = [0,0,0]\n",
    "    \n",
    "    # 1번 수포자\n",
    "    for i in range(1,len(answers)+1):\n",
    "        x = i%5\n",
    "        if(x!=0):\n",
    "            use1.append(x)\n",
    "        else:\n",
    "            use1.append(x+5)\n",
    "    \n",
    "    for i in range(len(answers)):\n",
    "        if(answers[i] == use1[i]):\n",
    "            result[0] += 1\n",
    "            \n",
    "    # 2번 수포자\n",
    "    for i in range(1, len(answers)+1):\n",
    "        x = i%5\n",
    "        if(x!=2):\n",
    "            use2.append(2)\n",
    "        if(x==0):\n",
    "            use2.append(x+5)\n",
    "        else:\n",
    "            if(x!=2):\n",
    "                use2.append(x)\n",
    "        \n",
    "    for i in range(len(answers)):\n",
    "        if(answers[i] == use2[i]):\n",
    "            result[1] += 1\n",
    "            \n",
    "    # 3번 수포자\n",
    "    for i in range(1,len(answers)+1):\n",
    "        x = i%5\n",
    "        if(x==1):\n",
    "            use3.append(3)\n",
    "            use3.append(3)\n",
    "        if(x!=0 ):\n",
    "            if(x!=3):\n",
    "                use3.append(x)\n",
    "                use3.append(x)\n",
    "        else:\n",
    "            use3.append(x+5)\n",
    "            use3.append(x+5)\n",
    "    \n",
    "    for i in range(len(answers)):\n",
    "        if(answers[i] == use3[i]):\n",
    "            result[2] += 1\n",
    "    \n",
    "    for i in range(3):\n",
    "        if result[i] == max(result):\n",
    "            answer.append(i+1)\n",
    "    return answer\n"
   ]
  },
  {
   "cell_type": "code",
   "execution_count": 20,
   "metadata": {},
   "outputs": [
    {
     "data": {
      "text/plain": [
       "[1]"
      ]
     },
     "execution_count": 20,
     "metadata": {},
     "output_type": "execute_result"
    }
   ],
   "source": [
    "solution([1,2,3,4,5])"
   ]
  },
  {
   "cell_type": "code",
   "execution_count": 21,
   "metadata": {},
   "outputs": [
    {
     "data": {
      "text/plain": [
       "[1, 2, 3]"
      ]
     },
     "execution_count": 21,
     "metadata": {},
     "output_type": "execute_result"
    }
   ],
   "source": [
    "solution([1,3,2,4,2])"
   ]
  }
 ],
 "metadata": {
  "kernelspec": {
   "display_name": "Python 3",
   "language": "python",
   "name": "python3"
  },
  "language_info": {
   "codemirror_mode": {
    "name": "ipython",
    "version": 3
   },
   "file_extension": ".py",
   "mimetype": "text/x-python",
   "name": "python",
   "nbconvert_exporter": "python",
   "pygments_lexer": "ipython3",
   "version": "3.7.3"
  }
 },
 "nbformat": 4,
 "nbformat_minor": 2
}
