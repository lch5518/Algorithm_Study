{
 "cells": [
  {
   "cell_type": "markdown",
   "metadata": {},
   "source": [
    "문서를 사용하고 맨 왼쪽 끝에 놓는 방법으로 사용한 순서대로 문서를 정렬한다고 할 때, 맨 처음 상태로 되돌리고 싶다면 어덯게 해야 할까"
   ]
  },
  {
   "cell_type": "markdown",
   "metadata": {},
   "source": [
    "## 문제\n",
    "문서가 15개 있을 때, 책장에 들어 있을 수 있는 문서의 배치 패턴을 모두 생각하고, 원래 순서로 되돌리는 이동 횟수의 합계를 구하시오."
   ]
  },
  {
   "cell_type": "code",
   "execution_count": 13,
   "metadata": {},
   "outputs": [
    {
     "name": "stdout",
     "output_type": "stream",
     "text": [
      "0 1\n",
      "1 1\n",
      "2 1\n",
      "3 1\n",
      "4 1\n",
      "5 1\n",
      "6 1\n",
      "7 1\n"
     ]
    }
   ],
   "source": [
    "# enumerate 이해하기! - 반복문 사용 시 몇 번째 반복문인지 확인이 필요할 때\n",
    "test_list = [1,1,1,1,1,1,1,1]\n",
    "for index_num, list_value in enumerate(test_list):\n",
    "    print(index_num, list_value)"
   ]
  },
  {
   "cell_type": "markdown",
   "metadata": {},
   "source": []
  },
  {
   "cell_type": "code",
   "execution_count": 1,
   "metadata": {},
   "outputs": [],
   "source": [
    "N = 15"
   ]
  },
  {
   "cell_type": "code",
   "execution_count": 2,
   "metadata": {},
   "outputs": [],
   "source": [
    "cnt = [0] * N\n",
    "cnt[0] = 1\n",
    "for i in range(1, N + 1):\n",
    "    for j in range(0, i - 2):\n",
    "        cnt[i - j - 1] = cnt[i - j - 2] * i\n",
    "    cnt[1] = i - 1"
   ]
  },
  {
   "cell_type": "code",
   "execution_count": 9,
   "metadata": {},
   "outputs": [],
   "source": [
    "sum = 0\n",
    "for v, i in enumerate(cnt):\n",
    "    sum += i * v"
   ]
  },
  {
   "cell_type": "code",
   "execution_count": 12,
   "metadata": {},
   "outputs": [
    {
     "name": "stdout",
     "output_type": "stream",
     "text": [
      "17368162415924 번\n"
     ]
    }
   ],
   "source": [
    "print(sum, '번')"
   ]
  }
 ],
 "metadata": {
  "kernelspec": {
   "display_name": "Python 3",
   "language": "python",
   "name": "python3"
  },
  "language_info": {
   "codemirror_mode": {
    "name": "ipython",
    "version": 3
   },
   "file_extension": ".py",
   "mimetype": "text/x-python",
   "name": "python",
   "nbconvert_exporter": "python",
   "pygments_lexer": "ipython3",
   "version": "3.7.4"
  }
 },
 "nbformat": 4,
 "nbformat_minor": 2
}
