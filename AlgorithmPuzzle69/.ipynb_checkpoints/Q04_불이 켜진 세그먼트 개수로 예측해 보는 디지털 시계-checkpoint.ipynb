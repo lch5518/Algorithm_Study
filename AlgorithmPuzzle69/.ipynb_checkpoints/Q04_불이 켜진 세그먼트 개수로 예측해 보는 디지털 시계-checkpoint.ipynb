{
 "cells": [
  {
   "cell_type": "markdown",
   "metadata": {},
   "source": [
    "![segment](img/segment.png)"
   ]
  },
  {
   "cell_type": "markdown",
   "metadata": {},
   "source": [
    "* 범위 : 00:00:00 ~ 12:59:59\n",
    "\n",
    "위와 같이 숫자 하나당 최대 7개의 세그먼트 디스플레이를 사용한 디지털 시계가 있으며.<br>\n",
    "24시간 형태로 출력한다고 하고 시, 분, 초가 한 자릿수일 때는 빈 부분을 0으로 출력한다<br>\n",
    "ex) 01:01:01"
   ]
  },
  {
   "cell_type": "markdown",
   "metadata": {},
   "source": [
    "* 세그먼트 개수\n",
    "\n",
    "\n",
    "|숫자|개수|\n",
    "|--|--|\n",
    "|0|6개|\n",
    "|1|2개|\n",
    "|2|5개|\n",
    "|3|5개|\n",
    "|4|4개|\n",
    "|5|5개|\n",
    "|6|6개|\n",
    "|7|3개|\n",
    "|8|8개|\n",
    "|9|6개|"
   ]
  },
  {
   "cell_type": "markdown",
   "metadata": {},
   "source": [
    "## 문제\n",
    "30개의 세그먼트에 불이 들어왔을 경우, 예상할 수 있는 시각이 모두 몇 가지인지 구하시오."
   ]
  },
  {
   "cell_type": "code",
   "execution_count": 1,
   "metadata": {},
   "outputs": [],
   "source": [
    "from math import floor"
   ]
  },
  {
   "cell_type": "code",
   "execution_count": 10,
   "metadata": {},
   "outputs": [
    {
     "name": "stdout",
     "output_type": "stream",
     "text": [
      "10의 자리 :  2 \n",
      " 1의 자리 :  4\n"
     ]
    }
   ],
   "source": [
    "num = 24\n",
    "print(\"10의 자리 : \", floor(num / 10), \"\\n 1의 자리 : \", num % 10)"
   ]
  },
  {
   "cell_type": "code",
   "execution_count": null,
   "metadata": {},
   "outputs": [],
   "source": []
  },
  {
   "cell_type": "code",
   "execution_count": 11,
   "metadata": {},
   "outputs": [],
   "source": [
    "N = 30"
   ]
  },
  {
   "cell_type": "code",
   "execution_count": 12,
   "metadata": {},
   "outputs": [],
   "source": [
    "# 두 자릿수 숫자일 때 불이 들어온 개수 구하기\n",
    "def check(num):\n",
    "    light = [6, 2, 5, 5, 4, 5, 6, 3, 7, 6]\n",
    "    return light[floor(num / 10)] + light[num % 10]"
   ]
  },
  {
   "cell_type": "code",
   "execution_count": 13,
   "metadata": {},
   "outputs": [],
   "source": [
    "cnt = 0\n",
    "for h in range(0,24):\n",
    "    for m in range(0,60):\n",
    "        for s in range(0,60):\n",
    "            if(check(h) + check(m) + check(s) == N):\n",
    "                cnt += 1"
   ]
  },
  {
   "cell_type": "code",
   "execution_count": 14,
   "metadata": {},
   "outputs": [
    {
     "data": {
      "text/plain": [
       "8360"
      ]
     },
     "execution_count": 14,
     "metadata": {},
     "output_type": "execute_result"
    }
   ],
   "source": [
    "cnt"
   ]
  },
  {
   "cell_type": "markdown",
   "metadata": {},
   "source": [
    "12이라는 숫자는 시, 분, 초 모두에서 사용할 수 있다. 같은 숫자를 여러 번 확인하는 것을 막기 위해 한 번 조사한 것을 기록해 두는 방법을 사용해보자"
   ]
  },
  {
   "cell_type": "code",
   "execution_count": 15,
   "metadata": {},
   "outputs": [],
   "source": [
    "lights = [0] * 60\n",
    "for i in range(0, 60):\n",
    "    lights[i] = check(i)"
   ]
  },
  {
   "cell_type": "code",
   "execution_count": 16,
   "metadata": {},
   "outputs": [],
   "source": [
    "cnt = 0\n",
    "for h in range(0,24):\n",
    "    for m in range(0,60):\n",
    "        for s in range(0,60):\n",
    "            if(check(h) + check(m) + check(s) == N):\n",
    "                cnt += 1"
   ]
  },
  {
   "cell_type": "code",
   "execution_count": 17,
   "metadata": {},
   "outputs": [
    {
     "data": {
      "text/plain": [
       "8360"
      ]
     },
     "execution_count": 17,
     "metadata": {},
     "output_type": "execute_result"
    }
   ],
   "source": [
    "cnt"
   ]
  }
 ],
 "metadata": {
  "kernelspec": {
   "display_name": "Python 3",
   "language": "python",
   "name": "python3"
  },
  "language_info": {
   "codemirror_mode": {
    "name": "ipython",
    "version": 3
   },
   "file_extension": ".py",
   "mimetype": "text/x-python",
   "name": "python",
   "nbconvert_exporter": "python",
   "pygments_lexer": "ipython3",
   "version": "3.7.3"
  }
 },
 "nbformat": 4,
 "nbformat_minor": 2
}
