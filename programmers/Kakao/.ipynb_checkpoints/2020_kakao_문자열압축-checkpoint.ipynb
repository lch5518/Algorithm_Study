{
 "cells": [
  {
   "cell_type": "markdown",
   "metadata": {},
   "source": [
    "### 입출력 예\n",
    "|s|\tresult|\n",
    "|--|--|\n",
    "|\"aabbaccc\"\t|7|\n",
    "|\"ababcdcdababcdcd\"\t|9|\n",
    "|\"abcabcdede\"\t|8|\n",
    "|\"abcabcabcabcdededededede\"\t|14|\n",
    "|\"xababcdcdababcdcd\"\t|17|\n"
   ]
  }
 ],
 "metadata": {
  "kernelspec": {
   "display_name": "Python 3",
   "language": "python",
   "name": "python3"
  },
  "language_info": {
   "codemirror_mode": {
    "name": "ipython",
    "version": 3
   },
   "file_extension": ".py",
   "mimetype": "text/x-python",
   "name": "python",
   "nbconvert_exporter": "python",
   "pygments_lexer": "ipython3",
   "version": "3.7.3"
  }
 },
 "nbformat": 4,
 "nbformat_minor": 2
}
