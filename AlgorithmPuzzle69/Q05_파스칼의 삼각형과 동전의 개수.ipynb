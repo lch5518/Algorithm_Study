{
 "cells": [
  {
   "cell_type": "markdown",
   "metadata": {},
   "source": [
    "파스칼의 삼각형에서 각각의 값을 금액이라고 생각해보자<br><br>\n",
    "n = 4 일 때<br>\n",
    "1원=1개, 4원=4개, 6원=2개(1원 동전 + 5원 동전)으로 총 *12개* 가 된다<br>\n",
    "\n",
    "n = 0 일 때, 1개<br>\n",
    "n = 1 일 때, 2개<br>\n",
    "n = 2 일 때, 4개<br>\n",
    "...<br>\n",
    "n = 9 일 때, 48개\n",
    "![pascal](img/pascal.png)\n",
    "\n",
    "돈의 단위는 1원, 5원, 10원, 50원, 100원, 500원, 1000원, 2000원, 5000원, 10000원이라고 하자"
   ]
  },
  {
   "cell_type": "markdown",
   "metadata": {},
   "source": [
    "## 문제\n",
    "n = 45일 때, 동전/지폐 개수의 합을 구하시오."
   ]
  },
  {
   "cell_type": "code",
   "execution_count": 1,
   "metadata": {},
   "outputs": [],
   "source": [
    "N = 45"
   ]
  },
  {
   "cell_type": "code",
   "execution_count": 2,
   "metadata": {},
   "outputs": [],
   "source": [
    "def count(n):\n",
    "    coin = [10000, 5000, 2000, 1000, 5000, 100, 50, 10, 5, 1]\n",
    "    result = 0\n",
    "    for c in coin:\n",
    "        cnt, n = divmod(n,c)\n",
    "        result += cnt\n",
    "    return result"
   ]
  },
  {
   "cell_type": "code",
   "execution_count": 6,
   "metadata": {},
   "outputs": [],
   "source": [
    "row = [0] * (N + 1) # 0으로 가득찬 배열 생성\n",
    "row[0] = 1"
   ]
  },
  {
   "cell_type": "code",
   "execution_count": 7,
   "metadata": {},
   "outputs": [],
   "source": [
    "for i in range(0, N):\n",
    "    # 각 자리 숫자를 오른쪽부터 설정\n",
    "    for j in range(i + 1, 0, -1):\n",
    "        # 앞선 행의 값을 기반으로 차례차례 채우기\n",
    "        row[j] += row[j - 1]"
   ]
  },
  {
   "cell_type": "code",
   "execution_count": 9,
   "metadata": {},
   "outputs": [],
   "source": [
    "# 개수 합계 구하기\n",
    "total = 0\n",
    "for i in range(0, N + 1):\n",
    "    total += count(row[i])"
   ]
  },
  {
   "cell_type": "code",
   "execution_count": 10,
   "metadata": {},
   "outputs": [
    {
     "name": "stdout",
     "output_type": "stream",
     "text": [
      "3518437636 개\n"
     ]
    }
   ],
   "source": [
    "print(total, '개')"
   ]
  }
 ],
 "metadata": {
  "kernelspec": {
   "display_name": "Python 3",
   "language": "python",
   "name": "python3"
  },
  "language_info": {
   "codemirror_mode": {
    "name": "ipython",
    "version": 3
   },
   "file_extension": ".py",
   "mimetype": "text/x-python",
   "name": "python",
   "nbconvert_exporter": "python",
   "pygments_lexer": "ipython3",
   "version": "3.7.4"
  }
 },
 "nbformat": 4,
 "nbformat_minor": 2
}
