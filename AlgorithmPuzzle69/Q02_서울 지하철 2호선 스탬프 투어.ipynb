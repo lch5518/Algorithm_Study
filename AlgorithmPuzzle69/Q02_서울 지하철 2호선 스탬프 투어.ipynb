{
 "cells": [
  {
   "cell_type": "markdown",
   "metadata": {},
   "source": [
    "## 문제\n",
    "* 조건 : 일반통행, 시계방향으로 돌고 있을 땐 시계방향으로만, 스탬프는 모든 역에서, 2호선은 1~43개의 역이며 순서대로 번호가 붙여있음<br><br>\n",
    " 다음과 같이 조건이 존재할 때 1번째 역에서 입장해서 17번째 역에서 나온다고 할 때, 스탬프를 찍는 순서에 몇 가지 패턴이 있을지 구하시오.\n",
    "![그림3](img/p3.jpg)"
   ]
  },
  {
   "cell_type": "code",
   "execution_count": 33,
   "metadata": {},
   "outputs": [
    {
     "name": "stdout",
     "output_type": "stream",
     "text": [
      "1 <<  0 : 1\n",
      "1 <<  1 : 2\n",
      "1 <<  2 : 4\n",
      "1 <<  3 : 8\n",
      "1 <<  4 : 16\n",
      "1 <<  5 : 32\n",
      "1 <<  6 : 64\n",
      "1 <<  7 : 128\n",
      "1 <<  8 : 256\n",
      "1 <<  9 : 512\n"
     ]
    }
   ],
   "source": [
    "for i in range(10):\n",
    "    # 왼쪽 시프트 : 2진수 1을 왼쪽으로 i비트 시프트하기\n",
    "    print(\"1 << \",i,\":\", 1 << i) "
   ]
  },
  {
   "cell_type": "code",
   "execution_count": 28,
   "metadata": {},
   "outputs": [
    {
     "data": {
      "text/plain": [
       "4"
      ]
     },
     "execution_count": 28,
     "metadata": {},
     "output_type": "execute_result"
    }
   ],
   "source": [
    "2 << 1 # 2진수 2를 왼쪽으로 1비트 시프트 (0010 -> 0100)"
   ]
  },
  {
   "cell_type": "code",
   "execution_count": 32,
   "metadata": {},
   "outputs": [
    {
     "name": "stdout",
     "output_type": "stream",
     "text": [
      "2 ** i :  1\n",
      "2 ** i :  2\n",
      "2 ** i :  4\n",
      "2 ** i :  8\n",
      "2 ** i :  16\n",
      "2 ** i :  32\n",
      "2 ** i :  64\n",
      "2 ** i :  128\n",
      "2 ** i :  256\n",
      "2 ** i :  512\n"
     ]
    }
   ],
   "source": [
    "for i in range(10):\n",
    "    print(\"2 **\", \"i : \", 2**i) "
   ]
  },
  {
   "cell_type": "markdown",
   "metadata": {},
   "source": [
    "tip : 2의 n제곱을 계산할 때는 시프트연산의 속도가 더 빠르다"
   ]
  },
  {
   "cell_type": "code",
   "execution_count": 44,
   "metadata": {},
   "outputs": [
    {
     "data": {
      "text/plain": [
       "8"
      ]
     },
     "execution_count": 44,
     "metadata": {},
     "output_type": "execute_result"
    }
   ],
   "source": [
    "N = 5\n",
    "a, b = 1, 5\n",
    "n = abs(a-b)\n",
    "(1 << (n - 1)) + (1 << (N - n - 1)) - 1"
   ]
  },
  {
   "cell_type": "code",
   "execution_count": 35,
   "metadata": {},
   "outputs": [],
   "source": [
    "N = 43\n",
    "a, b = 1, 17\n",
    "n = abs(a-b) # 사이에 있는 역의 수"
   ]
  },
  {
   "cell_type": "code",
   "execution_count": 36,
   "metadata": {},
   "outputs": [
    {
     "data": {
      "text/plain": [
       "67141631"
      ]
     },
     "execution_count": 36,
     "metadata": {},
     "output_type": "execute_result"
    }
   ],
   "source": [
    "# 안쪽으로 도는 경우와 바깥으로 도는 경우를 더한 뒤 중복 제거\n",
    "(1 << (n - 1)) + (1 << (N - n - 1)) - 1"
   ]
  }
 ],
 "metadata": {
  "kernelspec": {
   "display_name": "Python 3",
   "language": "python",
   "name": "python3"
  },
  "language_info": {
   "codemirror_mode": {
    "name": "ipython",
    "version": 3
   },
   "file_extension": ".py",
   "mimetype": "text/x-python",
   "name": "python",
   "nbconvert_exporter": "python",
   "pygments_lexer": "ipython3",
   "version": "3.7.4"
  }
 },
 "nbformat": 4,
 "nbformat_minor": 2
}
