{
 "cells": [
  {
   "cell_type": "markdown",
   "metadata": {},
   "source": [
    "선행 스킬이란 어떤 스킬을 배우기 전에 먼저 배워야 하는 스킬을 뜻합니다.\n",
    "\n",
    "예를 들어 선행 스킬 순서가 스파크 → 라이트닝 볼트 → 썬더일때, 썬더를 배우려면 먼저 라이트닝 볼트를 배워야 하고, 라이트닝 볼트를 배우려면 먼저 스파크를 배워야 합니다.\n",
    "\n",
    "위 순서에 없는 다른 스킬(힐링 등)은 순서에 상관없이 배울 수 있습니다. 따라서 스파크 → 힐링 → 라이트닝 볼트 → 썬더와 같은 스킬트리는 가능하지만, 썬더 → 스파크나 라이트닝 볼트 → 스파크 → 힐링 → 썬더와 같은 스킬트리는 불가능합니다.\n",
    "\n",
    "선행 스킬 순서 skill과 유저들이 만든 스킬트리1를 담은 배열 skill_trees가 매개변수로 주어질 때, 가능한 스킬트리 개수를 return 하는 solution 함수를 작성해주세요"
   ]
  },
  {
   "cell_type": "markdown",
   "metadata": {},
   "source": [
    "#### 예시\n",
    "|skill|\tskill_trees|return|\n",
    "|---|---|---|\n",
    "|\"CBD\"|\t[\"BACDE\", \"CBADF\", \"AECB\", \"BDA\"]|\t2|"
   ]
  },
  {
   "cell_type": "code",
   "execution_count": 17,
   "metadata": {},
   "outputs": [],
   "source": [
    "skill = \"CBD\"\n",
    "skill_trees = [\"BACDE\", \"CBADF\", \"AECB\", \"BDA\"]"
   ]
  },
  {
   "cell_type": "code",
   "execution_count": 31,
   "metadata": {},
   "outputs": [
    {
     "name": "stdout",
     "output_type": "stream",
     "text": [
      "C BACDE B\n",
      "C BACDE A\n",
      "C BACDE C\n",
      "C BACDE D\n",
      "C BACDE E\n",
      "C CBADF C\n",
      "C CBADF B\n",
      "C CBADF A\n",
      "C CBADF D\n",
      "C CBADF F\n",
      "C AECB A\n",
      "C AECB E\n",
      "C AECB C\n",
      "C AECB B\n",
      "C BDA B\n",
      "C BDA D\n",
      "C BDA A\n",
      "B BACDE B\n",
      "B BACDE A\n",
      "B BACDE C\n",
      "B BACDE D\n",
      "B BACDE E\n",
      "B CBADF C\n",
      "B CBADF B\n",
      "B CBADF A\n",
      "B CBADF D\n",
      "B CBADF F\n",
      "B AECB A\n",
      "B AECB E\n",
      "B AECB C\n",
      "B AECB B\n",
      "B BDA B\n",
      "B BDA D\n",
      "B BDA A\n",
      "D BACDE B\n",
      "D BACDE A\n",
      "D BACDE C\n",
      "D BACDE D\n",
      "D BACDE E\n",
      "D CBADF C\n",
      "D CBADF B\n",
      "D CBADF A\n",
      "D CBADF D\n",
      "D CBADF F\n",
      "D AECB A\n",
      "D AECB E\n",
      "D AECB C\n",
      "D AECB B\n",
      "D BDA B\n",
      "D BDA D\n",
      "D BDA A\n"
     ]
    }
   ],
   "source": [
    "for i in range(len(skill)):\n",
    "    for j in range(len(skill_trees)):\n",
    "        for x in range(len(skill_trees[j])):\n",
    "            print(skill[i],skill_trees[j],skill_trees[j][x])\n",
    "            \n",
    "            "
   ]
  },
  {
   "cell_type": "code",
   "execution_count": 25,
   "metadata": {},
   "outputs": [
    {
     "data": {
      "text/plain": [
       "'C'"
      ]
     },
     "execution_count": 25,
     "metadata": {},
     "output_type": "execute_result"
    }
   ],
   "source": [
    "skill[0]"
   ]
  },
  {
   "cell_type": "code",
   "execution_count": 24,
   "metadata": {},
   "outputs": [
    {
     "name": "stdout",
     "output_type": "stream",
     "text": [
      "B\n",
      "A\n",
      "C\n",
      "D\n",
      "E\n",
      "\n",
      "C\n",
      "B\n",
      "A\n",
      "D\n",
      "F\n",
      "\n",
      "A\n",
      "E\n",
      "C\n",
      "B\n",
      "\n",
      "B\n",
      "D\n",
      "A\n",
      "\n"
     ]
    }
   ],
   "source": [
    "for i in range(len(skill_trees)):\n",
    "    for j in skill_trees[i]:\n",
    "        print(j)\n",
    "        if(j==skill[i])\n",
    "        \n",
    "    print()"
   ]
  }
 ],
 "metadata": {
  "kernelspec": {
   "display_name": "Python 3",
   "language": "python",
   "name": "python3"
  },
  "language_info": {
   "codemirror_mode": {
    "name": "ipython",
    "version": 3
   },
   "file_extension": ".py",
   "mimetype": "text/x-python",
   "name": "python",
   "nbconvert_exporter": "python",
   "pygments_lexer": "ipython3",
   "version": "3.7.3"
  }
 },
 "nbformat": 4,
 "nbformat_minor": 2
}
