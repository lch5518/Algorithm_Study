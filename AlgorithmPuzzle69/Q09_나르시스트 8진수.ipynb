{
 "cells": [
  {
   "cell_type": "markdown",
   "metadata": {},
   "source": [
    "* 나르시스트 수(Narcissistic number) : n자리의 자연수 중에서 각 자리의 숫자를 n제곱한 값의 합계가 원래 자연수와 같아지는 수\n",
    "\n",
    "예를들어 153은 3자리숫자이며, 1^3 + 5^3 + 3^3 = 15^3이 되므로 나르시스트 수가 된다."
   ]
  },
  {
   "cell_type": "markdown",
   "metadata": {},
   "source": [
    "## 문제\n",
    "8진수에서 2자리 이상의 나르시스트 수를 작은 순서대로 8개 구하고, 8진수로 차례대로 출력하시오."
   ]
  },
  {
   "cell_type": "markdown",
   "metadata": {},
   "source": [
    "![8](img/8.png)"
   ]
  },
  {
   "cell_type": "code",
   "execution_count": 1,
   "metadata": {},
   "outputs": [],
   "source": [
    "N = 8"
   ]
  },
  {
   "cell_type": "code",
   "execution_count": 2,
   "metadata": {},
   "outputs": [],
   "source": [
    "# 기본적인 진법 변환 함수\n",
    "def to_str(n, base):\n",
    "    converter = \"0123456789ABCDEF\"\n",
    "    if n < base:\n",
    "        return converter[n]\n",
    "    else:\n",
    "        return to_str(n // base, base) + converter[n % base]"
   ]
  },
  {
   "cell_type": "code",
   "execution_count": 14,
   "metadata": {},
   "outputs": [
    {
     "data": {
      "text/plain": [
       "'10'"
      ]
     },
     "execution_count": 14,
     "metadata": {},
     "output_type": "execute_result"
    }
   ],
   "source": [
    "to_str(10, 10)"
   ]
  },
  {
   "cell_type": "code",
   "execution_count": 15,
   "metadata": {},
   "outputs": [],
   "source": [
    "# 탐색해야 하는 최대 자릿수 확인\n",
    "seq = 1\n",
    "while True:\n",
    "    if seq * ((N - 1) ** seq) < (N ** (seq - 1)):\n",
    "        break\n",
    "    seq += 1"
   ]
  },
  {
   "cell_type": "code",
   "execution_count": 16,
   "metadata": {},
   "outputs": [
    {
     "data": {
      "text/plain": [
       "44"
      ]
     },
     "execution_count": 16,
     "metadata": {},
     "output_type": "execute_result"
    }
   ],
   "source": [
    "seq"
   ]
  },
  {
   "cell_type": "code",
   "execution_count": 17,
   "metadata": {},
   "outputs": [
    {
     "name": "stdout",
     "output_type": "stream",
     "text": [
      "24\n",
      "64\n",
      "134\n",
      "205\n",
      "463\n",
      "660\n",
      "661\n",
      "40663\n"
     ]
    }
   ],
   "source": [
    "cnt = 0\n",
    "for i in range(N, (N ** seq) + 1):\n",
    "    # N진수로 변환\n",
    "    value = to_str(i, N)\n",
    "    length = len(value)\n",
    "    sum = 0\n",
    "    \n",
    "    for d in range(0, length):\n",
    "        sum += int(value[d], base = N) ** length\n",
    "    if i == sum:\n",
    "        print(value)\n",
    "        cnt += 1\n",
    "        if cnt == N:\n",
    "            break"
   ]
  }
 ],
 "metadata": {
  "kernelspec": {
   "display_name": "Python 3",
   "language": "python",
   "name": "python3"
  },
  "language_info": {
   "codemirror_mode": {
    "name": "ipython",
    "version": 3
   },
   "file_extension": ".py",
   "mimetype": "text/x-python",
   "name": "python",
   "nbconvert_exporter": "python",
   "pygments_lexer": "ipython3",
   "version": "3.7.4"
  }
 },
 "nbformat": 4,
 "nbformat_minor": 2
}
