{
 "cells": [
  {
   "cell_type": "markdown",
   "metadata": {},
   "source": [
    "https://programmers.co.kr/learn/courses/30/lessons/42584"
   ]
  },
  {
   "cell_type": "markdown",
   "metadata": {},
   "source": [
    "## 문제 설명\n",
    "초 단위로 기록된 주식가격이 담긴 배열 prices가 매개변수로 주어질 때, 가격이 떨어지지 않은 기간은 몇 초인지를 return 하도록 solution 함수를 완성하세요.\n",
    "\n",
    "## 제한사항\n",
    " * prices의 각 가격은 1 이상 10,000 이하인 자연수입니다.\n",
    " * prices의 길이는 2 이상 100,000 이하입니다."
   ]
  },
  {
   "cell_type": "markdown",
   "metadata": {},
   "source": [
    "|prices\t|return|\n",
    "|--|--|\n",
    "|[1, 2, 3, 2, 3]|[4, 3, 1, 1, 0]|"
   ]
  },
  {
   "cell_type": "markdown",
   "metadata": {},
   "source": [
    "### 입출력 예 설명\n",
    "1초 시점의 ₩1은 끝까지 가격이 떨어지지 않았습니다.<br>\n",
    "2초 시점의 ₩2은 끝까지 가격이 떨어지지 않았습니다.<br>\n",
    "3초 시점의 ₩3은 1초뒤에 가격이 떨어집니다. 따라서 1초간 가격이 떨어지지 않은 것으로 봅니다.<br>\n",
    "4초 시점의 ₩2은 1초간 가격이 떨어지지 않았습니다.<br>\n",
    "5초 시점의 ₩3은 0초간 가격이 떨어지지 않았습니다.<br>"
   ]
  },
  {
   "cell_type": "code",
   "execution_count": 12,
   "metadata": {},
   "outputs": [],
   "source": [
    "def solution(p):\n",
    "    result = []\n",
    "    for i in range(len(p)):\n",
    "        result.append(0)\n",
    "        arr = p[i+1:]\n",
    "        for j in arr:\n",
    "            if p[i]<=j:\n",
    "                result[i]+=1\n",
    "            else:\n",
    "                result[i]+=1\n",
    "                break\n",
    "    return result"
   ]
  },
  {
   "cell_type": "code",
   "execution_count": 13,
   "metadata": {},
   "outputs": [
    {
     "data": {
      "text/plain": [
       "[4, 3, 1, 1, 0]"
      ]
     },
     "execution_count": 13,
     "metadata": {},
     "output_type": "execute_result"
    }
   ],
   "source": [
    "solution([1, 2, 3, 2, 3])"
   ]
  },
  {
   "cell_type": "code",
   "execution_count": 2,
   "metadata": {},
   "outputs": [],
   "source": [
    "p = [1, 2, 3, 2, 3]"
   ]
  },
  {
   "cell_type": "code",
   "execution_count": 10,
   "metadata": {},
   "outputs": [],
   "source": [
    "result = []\n",
    "for i in range(len(p)):\n",
    "    result.append(0)\n",
    "    arr = p[i+1:]\n",
    "    for j in arr:\n",
    "        if p[i]<=j:\n",
    "            result[i]+=1\n",
    "        else:\n",
    "            result[i]+=1\n",
    "            break\n"
   ]
  },
  {
   "cell_type": "code",
   "execution_count": 11,
   "metadata": {},
   "outputs": [
    {
     "data": {
      "text/plain": [
       "[4, 3, 1, 1, 0]"
      ]
     },
     "execution_count": 11,
     "metadata": {},
     "output_type": "execute_result"
    }
   ],
   "source": [
    "result"
   ]
  }
 ],
 "metadata": {
  "kernelspec": {
   "display_name": "Python 3",
   "language": "python",
   "name": "python3"
  },
  "language_info": {
   "codemirror_mode": {
    "name": "ipython",
    "version": 3
   },
   "file_extension": ".py",
   "mimetype": "text/x-python",
   "name": "python",
   "nbconvert_exporter": "python",
   "pygments_lexer": "ipython3",
   "version": "3.7.3"
  }
 },
 "nbformat": 4,
 "nbformat_minor": 2
}
