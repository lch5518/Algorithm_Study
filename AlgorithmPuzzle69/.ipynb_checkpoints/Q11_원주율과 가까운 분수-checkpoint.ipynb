{
 "cells": [
  {
   "cell_type": "markdown",
   "metadata": {},
   "source": [
    "분모와 분자가 정수인 분수를 사용해서 원주율에 가까운 분수를 찾아봅시다.\n",
    "\n",
    "소수 n번째 자리까지 원주율과 일치하는 분수 중에서, '분모가 최소인것'을 pi(n)이라고 합시다. 예를 들어 n이 작을 때는 다음과 같습니다.\n",
    "\n",
    "|n|pi(n)|분모|\n",
    "|--|--|--|\n",
    "|1|19/6 = <span style=\"color:red\">3.1</span>6...|6|\n",
    "|2|22/7 = <span style=\"color:red\">3.14</span>28...|7|\n",
    "|3|245/78 = <span style=\"color:red\">3.141</span>02...|78|"
   ]
  },
  {
   "cell_type": "markdown",
   "metadata": {},
   "source": [
    "* 참고로 소수점 11번째 자리까지의 원주율은 다음과 같습니다.\n",
    "\n",
    "|**3.14159265358**|\n",
    "|--|"
   ]
  },
  {
   "cell_type": "markdown",
   "metadata": {},
   "source": [
    "## 문제\n",
    "n = 11일때 pi(11)의 분모를 구하시오."
   ]
  },
  {
   "cell_type": "code",
   "execution_count": 1,
   "metadata": {},
   "outputs": [],
   "source": [
    "from math import floor"
   ]
  },
  {
   "cell_type": "code",
   "execution_count": 17,
   "metadata": {},
   "outputs": [],
   "source": [
    "N = 11\n",
    "q = 1\n",
    "\n",
    "# 지정한 자릿수의 원주율을 정수로 변환하기\n",
    "pi = int(\"314159265358\"[0:N+1])\n",
    "pow = 10**N"
   ]
  },
  {
   "cell_type": "code",
   "execution_count": 18,
   "metadata": {},
   "outputs": [
    {
     "data": {
      "text/plain": [
       "314159265358"
      ]
     },
     "execution_count": 18,
     "metadata": {},
     "output_type": "execute_result"
    }
   ],
   "source": [
    "pi"
   ]
  },
  {
   "cell_type": "code",
   "execution_count": 19,
   "metadata": {},
   "outputs": [
    {
     "data": {
      "text/plain": [
       "100000000000"
      ]
     },
     "execution_count": 19,
     "metadata": {},
     "output_type": "execute_result"
    }
   ],
   "source": [
    "pow"
   ]
  },
  {
   "cell_type": "code",
   "execution_count": 25,
   "metadata": {},
   "outputs": [
    {
     "data": {
      "text/plain": [
       "3.14159265358"
      ]
     },
     "execution_count": 25,
     "metadata": {},
     "output_type": "execute_result"
    }
   ],
   "source": [
    "pi/pow"
   ]
  },
  {
   "cell_type": "code",
   "execution_count": 21,
   "metadata": {},
   "outputs": [
    {
     "data": {
      "text/plain": [
       "3.14159265359"
      ]
     },
     "execution_count": 21,
     "metadata": {},
     "output_type": "execute_result"
    }
   ],
   "source": [
    "(pi+1)/pow"
   ]
  },
  {
   "cell_type": "code",
   "execution_count": 26,
   "metadata": {},
   "outputs": [
    {
     "data": {
      "text/plain": [
       "3"
      ]
     },
     "execution_count": 26,
     "metadata": {},
     "output_type": "execute_result"
    }
   ],
   "source": [
    "floor(q * pi / pow)"
   ]
  },
  {
   "cell_type": "code",
   "execution_count": 27,
   "metadata": {},
   "outputs": [
    {
     "data": {
      "text/plain": [
       "3"
      ]
     },
     "execution_count": 27,
     "metadata": {},
     "output_type": "execute_result"
    }
   ],
   "source": [
    "floor(q * (pi + 1) / pow)"
   ]
  },
  {
   "cell_type": "code",
   "execution_count": 22,
   "metadata": {},
   "outputs": [
    {
     "data": {
      "text/plain": [
       "14159265359"
      ]
     },
     "execution_count": 22,
     "metadata": {},
     "output_type": "execute_result"
    }
   ],
   "source": [
    "q * (pi + 1) % pow"
   ]
  },
  {
   "cell_type": "code",
   "execution_count": 29,
   "metadata": {},
   "outputs": [
    {
     "name": "stdout",
     "output_type": "stream",
     "text": [
      "265381\n"
     ]
    }
   ],
   "source": [
    "while True:\n",
    "    if floor(q * pi / pow) != floor(q * (pi + 1) / pow):\n",
    "        # 몫이 일치하지 않는 경우\n",
    "        if q * (pi + 1) % pow > 0:\n",
    "            # 나머지가 0 보다 클 때\n",
    "            print(q)\n",
    "            break\n",
    "    q += 1"
   ]
  }
 ],
 "metadata": {
  "kernelspec": {
   "display_name": "Python 3",
   "language": "python",
   "name": "python3"
  },
  "language_info": {
   "codemirror_mode": {
    "name": "ipython",
    "version": 3
   },
   "file_extension": ".py",
   "mimetype": "text/x-python",
   "name": "python",
   "nbconvert_exporter": "python",
   "pygments_lexer": "ipython3",
   "version": "3.7.4"
  }
 },
 "nbformat": 4,
 "nbformat_minor": 2
}
