{
 "cells": [
  {
   "cell_type": "code",
   "execution_count": 2,
   "metadata": {},
   "outputs": [
    {
     "name": "stdout",
     "output_type": "stream",
     "text": [
      "D:\\Algorithm_Study\n"
     ]
    }
   ],
   "source": [
    "cd D:\\Algorithm_Study"
   ]
  },
  {
   "cell_type": "code",
   "execution_count": 39,
   "metadata": {},
   "outputs": [],
   "source": [
    "import pandas as pd\n",
    "import numpy as np"
   ]
  },
  {
   "cell_type": "code",
   "execution_count": 160,
   "metadata": {},
   "outputs": [],
   "source": [
    "day = pd.read_csv('day.csv',encoding = 'ms949')"
   ]
  },
  {
   "cell_type": "code",
   "execution_count": 161,
   "metadata": {},
   "outputs": [
    {
     "data": {
      "text/html": [
       "<div>\n",
       "<style scoped>\n",
       "    .dataframe tbody tr th:only-of-type {\n",
       "        vertical-align: middle;\n",
       "    }\n",
       "\n",
       "    .dataframe tbody tr th {\n",
       "        vertical-align: top;\n",
       "    }\n",
       "\n",
       "    .dataframe thead th {\n",
       "        text-align: right;\n",
       "    }\n",
       "</style>\n",
       "<table border=\"1\" class=\"dataframe\">\n",
       "  <thead>\n",
       "    <tr style=\"text-align: right;\">\n",
       "      <th></th>\n",
       "      <th>요일별</th>\n",
       "      <th>일</th>\n",
       "      <th>월</th>\n",
       "      <th>화</th>\n",
       "      <th>수</th>\n",
       "      <th>목</th>\n",
       "      <th>금</th>\n",
       "      <th>토</th>\n",
       "    </tr>\n",
       "  </thead>\n",
       "  <tbody>\n",
       "    <tr>\n",
       "      <th>0</th>\n",
       "      <td>강력범</td>\n",
       "      <td>103</td>\n",
       "      <td>114</td>\n",
       "      <td>119</td>\n",
       "      <td>105</td>\n",
       "      <td>124</td>\n",
       "      <td>121</td>\n",
       "      <td>115</td>\n",
       "    </tr>\n",
       "    <tr>\n",
       "      <th>1</th>\n",
       "      <td>절도범</td>\n",
       "      <td>909</td>\n",
       "      <td>900</td>\n",
       "      <td>835</td>\n",
       "      <td>824</td>\n",
       "      <td>864</td>\n",
       "      <td>954</td>\n",
       "      <td>928</td>\n",
       "    </tr>\n",
       "    <tr>\n",
       "      <th>2</th>\n",
       "      <td>폭력범</td>\n",
       "      <td>1,369</td>\n",
       "      <td>1,107</td>\n",
       "      <td>1,193</td>\n",
       "      <td>1,207</td>\n",
       "      <td>1,206</td>\n",
       "      <td>1,283</td>\n",
       "      <td>1,435</td>\n",
       "    </tr>\n",
       "    <tr>\n",
       "      <th>3</th>\n",
       "      <td>지능범</td>\n",
       "      <td>726</td>\n",
       "      <td>1,399</td>\n",
       "      <td>1,319</td>\n",
       "      <td>1,410</td>\n",
       "      <td>1,374</td>\n",
       "      <td>1,421</td>\n",
       "      <td>843</td>\n",
       "    </tr>\n",
       "    <tr>\n",
       "      <th>4</th>\n",
       "      <td>풍속범</td>\n",
       "      <td>17</td>\n",
       "      <td>37</td>\n",
       "      <td>39</td>\n",
       "      <td>20</td>\n",
       "      <td>28</td>\n",
       "      <td>24</td>\n",
       "      <td>30</td>\n",
       "    </tr>\n",
       "    <tr>\n",
       "      <th>5</th>\n",
       "      <td>기타형법범</td>\n",
       "      <td>285</td>\n",
       "      <td>396</td>\n",
       "      <td>364</td>\n",
       "      <td>456</td>\n",
       "      <td>436</td>\n",
       "      <td>429</td>\n",
       "      <td>299</td>\n",
       "    </tr>\n",
       "    <tr>\n",
       "      <th>6</th>\n",
       "      <td>특별법범</td>\n",
       "      <td>2,173</td>\n",
       "      <td>2,963</td>\n",
       "      <td>3,055</td>\n",
       "      <td>3,005</td>\n",
       "      <td>2,966</td>\n",
       "      <td>3,165</td>\n",
       "      <td>2,490</td>\n",
       "    </tr>\n",
       "  </tbody>\n",
       "</table>\n",
       "</div>"
      ],
      "text/plain": [
       "     요일별      일      월      화      수      목      금      토\n",
       "0    강력범    103    114    119    105    124    121    115\n",
       "1    절도범    909    900    835    824    864    954    928\n",
       "2    폭력범  1,369  1,107  1,193  1,207  1,206  1,283  1,435\n",
       "3    지능범    726  1,399  1,319  1,410  1,374  1,421    843\n",
       "4    풍속범     17     37     39     20     28     24     30\n",
       "5  기타형법범    285    396    364    456    436    429    299\n",
       "6   특별법범  2,173  2,963  3,055  3,005  2,966  3,165  2,490"
      ]
     },
     "execution_count": 161,
     "metadata": {},
     "output_type": "execute_result"
    }
   ],
   "source": [
    "day"
   ]
  },
  {
   "cell_type": "code",
   "execution_count": 163,
   "metadata": {},
   "outputs": [],
   "source": [
    "array1 = np.array(day)"
   ]
  },
  {
   "cell_type": "code",
   "execution_count": 164,
   "metadata": {},
   "outputs": [
    {
     "data": {
      "text/plain": [
       "array([['강력범', '103', '114', '119', '105', '124', '121', '115'],\n",
       "       ['절도범', '909', '900', '835', '824', '864', '954', '928'],\n",
       "       ['폭력범', '1,369', '1,107', '1,193', '1,207', '1,206', '1,283',\n",
       "        '1,435'],\n",
       "       ['지능범', '726', '1,399', '1,319', '1,410', '1,374', '1,421', '843'],\n",
       "       ['풍속범', '17', '37', '39', '20', '28', '24', '30'],\n",
       "       ['기타형법범', '285', '396', '364', '456', '436', '429', '299'],\n",
       "       ['특별법범', '2,173', '2,963', '3,055', '3,005', '2,966', '3,165',\n",
       "        '2,490']], dtype=object)"
      ]
     },
     "execution_count": 164,
     "metadata": {},
     "output_type": "execute_result"
    }
   ],
   "source": [
    "array1"
   ]
  },
  {
   "cell_type": "markdown",
   "metadata": {},
   "source": [
    "* 콤마 제거하기"
   ]
  },
  {
   "cell_type": "code",
   "execution_count": 182,
   "metadata": {},
   "outputs": [],
   "source": [
    "for i in range(len(array1)):\n",
    "    for j in range(len(array1[i])):\n",
    "        array1[i][j] = array1[i][j].replace(\",\",\"\")"
   ]
  },
  {
   "cell_type": "code",
   "execution_count": 183,
   "metadata": {},
   "outputs": [
    {
     "data": {
      "text/plain": [
       "array([['강력범', '103', '114', '119', '105', '124', '121', '115'],\n",
       "       ['절도범', '909', '900', '835', '824', '864', '954', '928'],\n",
       "       ['폭력범', '1369', '1107', '1193', '1207', '1206', '1283', '1435'],\n",
       "       ['지능범', '726', '1399', '1319', '1410', '1374', '1421', '843'],\n",
       "       ['풍속범', '17', '37', '39', '20', '28', '24', '30'],\n",
       "       ['기타형법범', '285', '396', '364', '456', '436', '429', '299'],\n",
       "       ['특별법범', '2173', '2963', '3055', '3005', '2966', '3165', '2490']],\n",
       "      dtype=object)"
      ]
     },
     "execution_count": 183,
     "metadata": {},
     "output_type": "execute_result"
    }
   ],
   "source": [
    "array1"
   ]
  },
  {
   "cell_type": "code",
   "execution_count": 184,
   "metadata": {},
   "outputs": [],
   "source": [
    "day1 = pd.DataFrame(array1)"
   ]
  },
  {
   "cell_type": "code",
   "execution_count": 205,
   "metadata": {},
   "outputs": [
    {
     "data": {
      "text/html": [
       "<div>\n",
       "<style scoped>\n",
       "    .dataframe tbody tr th:only-of-type {\n",
       "        vertical-align: middle;\n",
       "    }\n",
       "\n",
       "    .dataframe tbody tr th {\n",
       "        vertical-align: top;\n",
       "    }\n",
       "\n",
       "    .dataframe thead th {\n",
       "        text-align: right;\n",
       "    }\n",
       "</style>\n",
       "<table border=\"1\" class=\"dataframe\">\n",
       "  <thead>\n",
       "    <tr style=\"text-align: right;\">\n",
       "      <th></th>\n",
       "      <th>0</th>\n",
       "      <th>1</th>\n",
       "      <th>2</th>\n",
       "      <th>3</th>\n",
       "      <th>4</th>\n",
       "      <th>5</th>\n",
       "      <th>6</th>\n",
       "      <th>7</th>\n",
       "    </tr>\n",
       "  </thead>\n",
       "  <tbody>\n",
       "    <tr>\n",
       "      <th>0</th>\n",
       "      <td>강력범</td>\n",
       "      <td>103</td>\n",
       "      <td>114</td>\n",
       "      <td>119</td>\n",
       "      <td>105</td>\n",
       "      <td>124</td>\n",
       "      <td>121</td>\n",
       "      <td>115</td>\n",
       "    </tr>\n",
       "    <tr>\n",
       "      <th>1</th>\n",
       "      <td>절도범</td>\n",
       "      <td>909</td>\n",
       "      <td>900</td>\n",
       "      <td>835</td>\n",
       "      <td>824</td>\n",
       "      <td>864</td>\n",
       "      <td>954</td>\n",
       "      <td>928</td>\n",
       "    </tr>\n",
       "    <tr>\n",
       "      <th>2</th>\n",
       "      <td>폭력범</td>\n",
       "      <td>1369</td>\n",
       "      <td>1107</td>\n",
       "      <td>1193</td>\n",
       "      <td>1207</td>\n",
       "      <td>1206</td>\n",
       "      <td>1283</td>\n",
       "      <td>1435</td>\n",
       "    </tr>\n",
       "    <tr>\n",
       "      <th>3</th>\n",
       "      <td>지능범</td>\n",
       "      <td>726</td>\n",
       "      <td>1399</td>\n",
       "      <td>1319</td>\n",
       "      <td>1410</td>\n",
       "      <td>1374</td>\n",
       "      <td>1421</td>\n",
       "      <td>843</td>\n",
       "    </tr>\n",
       "    <tr>\n",
       "      <th>4</th>\n",
       "      <td>풍속범</td>\n",
       "      <td>17</td>\n",
       "      <td>37</td>\n",
       "      <td>39</td>\n",
       "      <td>20</td>\n",
       "      <td>28</td>\n",
       "      <td>24</td>\n",
       "      <td>30</td>\n",
       "    </tr>\n",
       "    <tr>\n",
       "      <th>5</th>\n",
       "      <td>기타형법범</td>\n",
       "      <td>285</td>\n",
       "      <td>396</td>\n",
       "      <td>364</td>\n",
       "      <td>456</td>\n",
       "      <td>436</td>\n",
       "      <td>429</td>\n",
       "      <td>299</td>\n",
       "    </tr>\n",
       "    <tr>\n",
       "      <th>6</th>\n",
       "      <td>특별법범</td>\n",
       "      <td>2173</td>\n",
       "      <td>2963</td>\n",
       "      <td>3055</td>\n",
       "      <td>3005</td>\n",
       "      <td>2966</td>\n",
       "      <td>3165</td>\n",
       "      <td>2490</td>\n",
       "    </tr>\n",
       "  </tbody>\n",
       "</table>\n",
       "</div>"
      ],
      "text/plain": [
       "       0     1     2     3     4     5     6     7\n",
       "0    강력범   103   114   119   105   124   121   115\n",
       "1    절도범   909   900   835   824   864   954   928\n",
       "2    폭력범  1369  1107  1193  1207  1206  1283  1435\n",
       "3    지능범   726  1399  1319  1410  1374  1421   843\n",
       "4    풍속범    17    37    39    20    28    24    30\n",
       "5  기타형법범   285   396   364   456   436   429   299\n",
       "6   특별법범  2173  2963  3055  3005  2966  3165  2490"
      ]
     },
     "execution_count": 205,
     "metadata": {},
     "output_type": "execute_result"
    }
   ],
   "source": [
    "day1"
   ]
  },
  {
   "cell_type": "code",
   "execution_count": 229,
   "metadata": {},
   "outputs": [
    {
     "data": {
      "text/plain": [
       "1    103\n",
       "2    114\n",
       "3    119\n",
       "4    105\n",
       "5    124\n",
       "6    121\n",
       "7    115\n",
       "Name: 0, dtype: int32"
      ]
     },
     "execution_count": 229,
     "metadata": {},
     "output_type": "execute_result"
    }
   ],
   "source": [
    "day1.loc[0][1:8].astype('int')"
   ]
  },
  {
   "cell_type": "code",
   "execution_count": 241,
   "metadata": {},
   "outputs": [
    {
     "data": {
      "text/plain": [
       "0     217\n",
       "1    1809\n",
       "2    2476\n",
       "3    2125\n",
       "4      54\n",
       "5     681\n",
       "6    5136\n",
       "dtype: int32"
      ]
     },
     "execution_count": 241,
     "metadata": {},
     "output_type": "execute_result"
    }
   ],
   "source": [
    "day1[1].astype('int')+day1[2].astype('int')"
   ]
  },
  {
   "cell_type": "markdown",
   "metadata": {},
   "source": [
    "* 범죄별 합계 컬럼만들기"
   ]
  },
  {
   "cell_type": "code",
   "execution_count": 243,
   "metadata": {},
   "outputs": [],
   "source": [
    "total = 0\n",
    "for i in range(7):\n",
    "    total += day1[i+1].astype('int')"
   ]
  },
  {
   "cell_type": "code",
   "execution_count": 244,
   "metadata": {},
   "outputs": [
    {
     "data": {
      "text/plain": [
       "0      801\n",
       "1     6214\n",
       "2     8800\n",
       "3     8492\n",
       "4      195\n",
       "5     2665\n",
       "6    19817\n",
       "Name: 1, dtype: int32"
      ]
     },
     "execution_count": 244,
     "metadata": {},
     "output_type": "execute_result"
    }
   ],
   "source": [
    "total"
   ]
  },
  {
   "cell_type": "code",
   "execution_count": 232,
   "metadata": {},
   "outputs": [
    {
     "data": {
      "text/plain": [
       "801"
      ]
     },
     "execution_count": 232,
     "metadata": {},
     "output_type": "execute_result"
    }
   ],
   "source": [
    "sum(day1.loc[0][1:8].astype('int')) #걍력범 합계"
   ]
  },
  {
   "cell_type": "code",
   "execution_count": 245,
   "metadata": {},
   "outputs": [],
   "source": [
    "day1['계'] = total"
   ]
  },
  {
   "cell_type": "code",
   "execution_count": 246,
   "metadata": {},
   "outputs": [
    {
     "data": {
      "text/html": [
       "<div>\n",
       "<style scoped>\n",
       "    .dataframe tbody tr th:only-of-type {\n",
       "        vertical-align: middle;\n",
       "    }\n",
       "\n",
       "    .dataframe tbody tr th {\n",
       "        vertical-align: top;\n",
       "    }\n",
       "\n",
       "    .dataframe thead th {\n",
       "        text-align: right;\n",
       "    }\n",
       "</style>\n",
       "<table border=\"1\" class=\"dataframe\">\n",
       "  <thead>\n",
       "    <tr style=\"text-align: right;\">\n",
       "      <th></th>\n",
       "      <th>0</th>\n",
       "      <th>1</th>\n",
       "      <th>2</th>\n",
       "      <th>3</th>\n",
       "      <th>4</th>\n",
       "      <th>5</th>\n",
       "      <th>6</th>\n",
       "      <th>7</th>\n",
       "      <th>계</th>\n",
       "    </tr>\n",
       "  </thead>\n",
       "  <tbody>\n",
       "    <tr>\n",
       "      <th>0</th>\n",
       "      <td>강력범</td>\n",
       "      <td>103</td>\n",
       "      <td>114</td>\n",
       "      <td>119</td>\n",
       "      <td>105</td>\n",
       "      <td>124</td>\n",
       "      <td>121</td>\n",
       "      <td>115</td>\n",
       "      <td>801</td>\n",
       "    </tr>\n",
       "    <tr>\n",
       "      <th>1</th>\n",
       "      <td>절도범</td>\n",
       "      <td>909</td>\n",
       "      <td>900</td>\n",
       "      <td>835</td>\n",
       "      <td>824</td>\n",
       "      <td>864</td>\n",
       "      <td>954</td>\n",
       "      <td>928</td>\n",
       "      <td>6214</td>\n",
       "    </tr>\n",
       "    <tr>\n",
       "      <th>2</th>\n",
       "      <td>폭력범</td>\n",
       "      <td>1369</td>\n",
       "      <td>1107</td>\n",
       "      <td>1193</td>\n",
       "      <td>1207</td>\n",
       "      <td>1206</td>\n",
       "      <td>1283</td>\n",
       "      <td>1435</td>\n",
       "      <td>8800</td>\n",
       "    </tr>\n",
       "    <tr>\n",
       "      <th>3</th>\n",
       "      <td>지능범</td>\n",
       "      <td>726</td>\n",
       "      <td>1399</td>\n",
       "      <td>1319</td>\n",
       "      <td>1410</td>\n",
       "      <td>1374</td>\n",
       "      <td>1421</td>\n",
       "      <td>843</td>\n",
       "      <td>8492</td>\n",
       "    </tr>\n",
       "    <tr>\n",
       "      <th>4</th>\n",
       "      <td>풍속범</td>\n",
       "      <td>17</td>\n",
       "      <td>37</td>\n",
       "      <td>39</td>\n",
       "      <td>20</td>\n",
       "      <td>28</td>\n",
       "      <td>24</td>\n",
       "      <td>30</td>\n",
       "      <td>195</td>\n",
       "    </tr>\n",
       "    <tr>\n",
       "      <th>5</th>\n",
       "      <td>기타형법범</td>\n",
       "      <td>285</td>\n",
       "      <td>396</td>\n",
       "      <td>364</td>\n",
       "      <td>456</td>\n",
       "      <td>436</td>\n",
       "      <td>429</td>\n",
       "      <td>299</td>\n",
       "      <td>2665</td>\n",
       "    </tr>\n",
       "    <tr>\n",
       "      <th>6</th>\n",
       "      <td>특별법범</td>\n",
       "      <td>2173</td>\n",
       "      <td>2963</td>\n",
       "      <td>3055</td>\n",
       "      <td>3005</td>\n",
       "      <td>2966</td>\n",
       "      <td>3165</td>\n",
       "      <td>2490</td>\n",
       "      <td>19817</td>\n",
       "    </tr>\n",
       "  </tbody>\n",
       "</table>\n",
       "</div>"
      ],
      "text/plain": [
       "       0     1     2     3     4     5     6     7      계\n",
       "0    강력범   103   114   119   105   124   121   115    801\n",
       "1    절도범   909   900   835   824   864   954   928   6214\n",
       "2    폭력범  1369  1107  1193  1207  1206  1283  1435   8800\n",
       "3    지능범   726  1399  1319  1410  1374  1421   843   8492\n",
       "4    풍속범    17    37    39    20    28    24    30    195\n",
       "5  기타형법범   285   396   364   456   436   429   299   2665\n",
       "6   특별법범  2173  2963  3055  3005  2966  3165  2490  19817"
      ]
     },
     "execution_count": 246,
     "metadata": {},
     "output_type": "execute_result"
    }
   ],
   "source": [
    "day1"
   ]
  },
  {
   "cell_type": "code",
   "execution_count": 248,
   "metadata": {},
   "outputs": [
    {
     "data": {
      "text/plain": [
       "5582"
      ]
     },
     "execution_count": 248,
     "metadata": {},
     "output_type": "execute_result"
    }
   ],
   "source": [
    "sum(day1[1].astype('int')) #일요일 합계"
   ]
  },
  {
   "cell_type": "markdown",
   "metadata": {},
   "source": [
    "<br>\n",
    "<br>"
   ]
  },
  {
   "cell_type": "code",
   "execution_count": 252,
   "metadata": {},
   "outputs": [
    {
     "data": {
      "text/html": [
       "<div>\n",
       "<style scoped>\n",
       "    .dataframe tbody tr th:only-of-type {\n",
       "        vertical-align: middle;\n",
       "    }\n",
       "\n",
       "    .dataframe tbody tr th {\n",
       "        vertical-align: top;\n",
       "    }\n",
       "\n",
       "    .dataframe thead th {\n",
       "        text-align: right;\n",
       "    }\n",
       "</style>\n",
       "<table border=\"1\" class=\"dataframe\">\n",
       "  <thead>\n",
       "    <tr style=\"text-align: right;\">\n",
       "      <th></th>\n",
       "      <th>0</th>\n",
       "      <th>1</th>\n",
       "      <th>2</th>\n",
       "      <th>3</th>\n",
       "      <th>4</th>\n",
       "      <th>5</th>\n",
       "      <th>6</th>\n",
       "    </tr>\n",
       "  </thead>\n",
       "  <tbody>\n",
       "    <tr>\n",
       "      <th>요일별</th>\n",
       "      <td>강력범</td>\n",
       "      <td>절도범</td>\n",
       "      <td>폭력범</td>\n",
       "      <td>지능범</td>\n",
       "      <td>풍속범</td>\n",
       "      <td>기타형법범</td>\n",
       "      <td>특별법범</td>\n",
       "    </tr>\n",
       "    <tr>\n",
       "      <th>일</th>\n",
       "      <td>103</td>\n",
       "      <td>909</td>\n",
       "      <td>1,369</td>\n",
       "      <td>726</td>\n",
       "      <td>17</td>\n",
       "      <td>285</td>\n",
       "      <td>2,173</td>\n",
       "    </tr>\n",
       "    <tr>\n",
       "      <th>월</th>\n",
       "      <td>114</td>\n",
       "      <td>900</td>\n",
       "      <td>1,107</td>\n",
       "      <td>1,399</td>\n",
       "      <td>37</td>\n",
       "      <td>396</td>\n",
       "      <td>2,963</td>\n",
       "    </tr>\n",
       "    <tr>\n",
       "      <th>화</th>\n",
       "      <td>119</td>\n",
       "      <td>835</td>\n",
       "      <td>1,193</td>\n",
       "      <td>1,319</td>\n",
       "      <td>39</td>\n",
       "      <td>364</td>\n",
       "      <td>3,055</td>\n",
       "    </tr>\n",
       "    <tr>\n",
       "      <th>수</th>\n",
       "      <td>105</td>\n",
       "      <td>824</td>\n",
       "      <td>1,207</td>\n",
       "      <td>1,410</td>\n",
       "      <td>20</td>\n",
       "      <td>456</td>\n",
       "      <td>3,005</td>\n",
       "    </tr>\n",
       "    <tr>\n",
       "      <th>목</th>\n",
       "      <td>124</td>\n",
       "      <td>864</td>\n",
       "      <td>1,206</td>\n",
       "      <td>1,374</td>\n",
       "      <td>28</td>\n",
       "      <td>436</td>\n",
       "      <td>2,966</td>\n",
       "    </tr>\n",
       "    <tr>\n",
       "      <th>금</th>\n",
       "      <td>121</td>\n",
       "      <td>954</td>\n",
       "      <td>1,283</td>\n",
       "      <td>1,421</td>\n",
       "      <td>24</td>\n",
       "      <td>429</td>\n",
       "      <td>3,165</td>\n",
       "    </tr>\n",
       "    <tr>\n",
       "      <th>토</th>\n",
       "      <td>115</td>\n",
       "      <td>928</td>\n",
       "      <td>1,435</td>\n",
       "      <td>843</td>\n",
       "      <td>30</td>\n",
       "      <td>299</td>\n",
       "      <td>2,490</td>\n",
       "    </tr>\n",
       "  </tbody>\n",
       "</table>\n",
       "</div>"
      ],
      "text/plain": [
       "       0    1      2      3    4      5      6\n",
       "요일별  강력범  절도범    폭력범    지능범  풍속범  기타형법범   특별법범\n",
       "일    103  909  1,369    726   17    285  2,173\n",
       "월    114  900  1,107  1,399   37    396  2,963\n",
       "화    119  835  1,193  1,319   39    364  3,055\n",
       "수    105  824  1,207  1,410   20    456  3,005\n",
       "목    124  864  1,206  1,374   28    436  2,966\n",
       "금    121  954  1,283  1,421   24    429  3,165\n",
       "토    115  928  1,435    843   30    299  2,490"
      ]
     },
     "execution_count": 252,
     "metadata": {},
     "output_type": "execute_result"
    }
   ],
   "source": [
    "day.T"
   ]
  },
  {
   "cell_type": "code",
   "execution_count": 253,
   "metadata": {},
   "outputs": [],
   "source": [
    "day2 = day.T"
   ]
  },
  {
   "cell_type": "code",
   "execution_count": 254,
   "metadata": {},
   "outputs": [
    {
     "name": "stderr",
     "output_type": "stream",
     "text": [
      "C:\\Users\\user\\Anaconda3\\lib\\site-packages\\ipykernel_launcher.py:1: DeprecationWarning: \n",
      ".ix is deprecated. Please use\n",
      ".loc for label based indexing or\n",
      ".iloc for positional indexing\n",
      "\n",
      "See the documentation here:\n",
      "http://pandas.pydata.org/pandas-docs/stable/indexing.html#ix-indexer-is-deprecated\n",
      "  \"\"\"Entry point for launching an IPython kernel.\n"
     ]
    },
    {
     "data": {
      "text/plain": [
       "0      강력범\n",
       "1      절도범\n",
       "2      폭력범\n",
       "3      지능범\n",
       "4      풍속범\n",
       "5    기타형법범\n",
       "6     특별법범\n",
       "Name: 요일별, dtype: object"
      ]
     },
     "execution_count": 254,
     "metadata": {},
     "output_type": "execute_result"
    }
   ],
   "source": [
    "day2.ix[0]"
   ]
  },
  {
   "cell_type": "code",
   "execution_count": 249,
   "metadata": {},
   "outputs": [],
   "source": [
    "import matplotlib.pyplot as plt"
   ]
  },
  {
   "cell_type": "code",
   "execution_count": null,
   "metadata": {},
   "outputs": [],
   "source": [
    "plt.title('요일별 범죄빈도')\n",
    "ax = sns.lineplot(x=\"시간\", y=\"계\",hue='0',data=day1)\n",
    "ax.legend(bbox_to_anchor=(1.1,1.05))\n"
   ]
  }
 ],
 "metadata": {
  "kernelspec": {
   "display_name": "Python 3",
   "language": "python",
   "name": "python3"
  },
  "language_info": {
   "codemirror_mode": {
    "name": "ipython",
    "version": 3
   },
   "file_extension": ".py",
   "mimetype": "text/x-python",
   "name": "python",
   "nbconvert_exporter": "python",
   "pygments_lexer": "ipython3",
   "version": "3.6.5"
  }
 },
 "nbformat": 4,
 "nbformat_minor": 2
}
