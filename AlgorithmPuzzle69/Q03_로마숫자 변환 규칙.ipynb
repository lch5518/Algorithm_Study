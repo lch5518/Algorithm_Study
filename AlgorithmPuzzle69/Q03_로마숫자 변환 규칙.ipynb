{
 "cells": [
  {
   "cell_type": "markdown",
   "metadata": {},
   "source": [
    "### 로마문자 표기법\n",
    "|기호|\t값|\n",
    "|--|--|\n",
    "|I|\t1|\n",
    "|V|\t5|\n",
    "|X|\t10|\n",
    "|L|\t50|\n",
    "|C|\t100|\n",
    "|D|\t500|\n",
    "|M|\t1000|\n",
    "\n",
    "<br>\n",
    "\n",
    "### 표기법(위키백과)\n",
    "로마 숫자는 기본적으로 기호를 합산하는 방식으로 조합되는 가법적 기수법(加法的 記數法)이다.예를 들어 I 이 세개면 III (3) 이고 55는 L (50) + V(5) = LV(55)와 같은 식으로 표기된다. 로마 숫자에는 0에 대한 표기 방법이 없다.\n",
    "\n",
    "세월이 흐르면서 보다 간단한 표기법을 위해 감산 표기법이 개발되었다. 감산 표기법은 V(5)나 X(10), C(100)와 같은 큰수 앞에 I과 같은 작은 수를 놓아 큰 수에서 작은 수를 뺀 값을 표기하는 방법이다. 예를 들어 초기에는 4를 표시하는 데 IIII가 널리 쓰였으나 이후에는 IV가 널리 쓰였다. 이 경우 IV = V - I와 같이 감산 표기법이 적용된 것이다. 감산 표기법은 XL (40), CD (400)과 같은 경우에도 쓰인다.\n",
    "\n"
   ]
  },
  {
   "cell_type": "markdown",
   "metadata": {},
   "source": [
    "## 문제\n",
    "로마 숫자 기호를 12개 나열했을 때, 로마 숫자로 인식될 수 있는 숫자가 몇 개인지 구하시오.<br>\n",
    "예를 들어 1개의 기호로 표현할 수 있는 것은 I, V, X, L, C, D, M으로 모두 7가지, <br>\n",
    "15개의 기호로 표현할 수 있는 것은 'MMMDCCCLXXXVIII'(3,888)로 1가지입니다."
   ]
  },
  {
   "cell_type": "code",
   "execution_count": 1,
   "metadata": {},
   "outputs": [],
   "source": [
    "N = 12"
   ]
  },
  {
   "cell_type": "code",
   "execution_count": 2,
   "metadata": {},
   "outputs": [],
   "source": [
    "# 자릿수 하나 변환\n",
    "def conv(n, i, v, x):\n",
    "    result = ''\n",
    "    if n == 9:\n",
    "        result += i + x\n",
    "    elif n == 4:\n",
    "        result += i + v\n",
    "    else:\n",
    "        result += v * (n // 5)\n",
    "        n %= 5\n",
    "        result += i * n\n",
    "    return result"
   ]
  },
  {
   "cell_type": "code",
   "execution_count": 15,
   "metadata": {},
   "outputs": [
    {
     "data": {
      "text/plain": [
       "(3, 1)"
      ]
     },
     "execution_count": 15,
     "metadata": {},
     "output_type": "execute_result"
    }
   ],
   "source": [
    "divmod(10, 3) # 몫과 나머지 출력"
   ]
  },
  {
   "cell_type": "code",
   "execution_count": 16,
   "metadata": {},
   "outputs": [],
   "source": [
    "# 로마 숫자로 변환\n",
    "def roman(n):\n",
    "    m, n = divmod(n, 1000)\n",
    "    c, n = divmod(n, 100)\n",
    "    x, n = divmod(n, 10)\n",
    "    result = 'M' * m\n",
    "    result += conv(c, 'C', 'D', 'M')\n",
    "    result += conv(x, 'X', 'L', 'C')\n",
    "    result += conv(n, 'I', 'V', 'X')\n",
    "    return result"
   ]
  },
  {
   "cell_type": "code",
   "execution_count": 17,
   "metadata": {},
   "outputs": [],
   "source": [
    "cnt = {}\n",
    "for n in range(1, 4000):\n",
    "    length = len(roman(n))\n",
    "    if length in cnt:\n",
    "        cnt[length] += 1\n",
    "    else:\n",
    "        cnt[length] = 1"
   ]
  },
  {
   "cell_type": "code",
   "execution_count": 21,
   "metadata": {},
   "outputs": [
    {
     "name": "stdout",
     "output_type": "stream",
     "text": [
      "93 가지\n"
     ]
    }
   ],
   "source": [
    "print(cnt[N], '가지')"
   ]
  }
 ],
 "metadata": {
  "kernelspec": {
   "display_name": "Python 3",
   "language": "python",
   "name": "python3"
  },
  "language_info": {
   "codemirror_mode": {
    "name": "ipython",
    "version": 3
   },
   "file_extension": ".py",
   "mimetype": "text/x-python",
   "name": "python",
   "nbconvert_exporter": "python",
   "pygments_lexer": "ipython3",
   "version": "3.7.4"
  }
 },
 "nbformat": 4,
 "nbformat_minor": 2
}
