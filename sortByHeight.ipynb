{
 "cells": [
  {
   "cell_type": "markdown",
   "metadata": {},
   "source": [
    "Some people are standing in a row in a park. There are trees between them which cannot be moved. Your task is to rearrange the people by their heights in a non-descending order without moving the trees. People can be very tall!"
   ]
  },
  {
   "cell_type": "code",
   "execution_count": 198,
   "metadata": {},
   "outputs": [],
   "source": [
    "def sortByHeight(a):\n",
    "    tree = []\n",
    "    result = []\n",
    "    temp = 0\n",
    "    for i in range(len(a)):\n",
    "        if(a[i] == -1):\n",
    "            tree.append(i)\n",
    "    for i in range(len(a)):\n",
    "        for j in range(len(a)-1):\n",
    "            if(a[j]>a[j+1]):\n",
    "                temp = a[j]\n",
    "                a[j] = a[j+1]\n",
    "                a[j+1] = temp\n",
    "    for i in range(len(a)):\n",
    "        if(a[i] != -1):\n",
    "            result.append(a[i])\n",
    "    for i in range(len(tree)):\n",
    "        result.insert(tree[i],-1)\n",
    "    return result\n"
   ]
  },
  {
   "cell_type": "code",
   "execution_count": null,
   "metadata": {},
   "outputs": [],
   "source": [
    "def sortByHeight(a):\n",
    "    l = sorted([i for i in a if i > 0])\n",
    "    for n,i in enumerate(a):\n",
    "        if i == -1:\n",
    "            l.insert(n,i)\n",
    "    return l"
   ]
  },
  {
   "cell_type": "code",
   "execution_count": 223,
   "metadata": {},
   "outputs": [],
   "source": [
    "def sortByHeight(a):\n",
    "    l = sorted([i for i in a if i > 0])\n",
    "    for i in range(len(a)):\n",
    "        if a[i] == -1:\n",
    "            l.insert(i,a[i])\n",
    "    return l"
   ]
  },
  {
   "cell_type": "code",
   "execution_count": 224,
   "metadata": {},
   "outputs": [
    {
     "data": {
      "text/plain": [
       "[-1, 150, 160, 170, -1, -1, 180, 190]"
      ]
     },
     "execution_count": 224,
     "metadata": {},
     "output_type": "execute_result"
    }
   ],
   "source": [
    "sortByHeight([-1, 150, 190, 170, -1, -1, 160, 180])"
   ]
  },
  {
   "cell_type": "code",
   "execution_count": 226,
   "metadata": {},
   "outputs": [
    {
     "data": {
      "text/plain": [
       "[2, 2, 4, 9, 11, 16]"
      ]
     },
     "execution_count": 226,
     "metadata": {},
     "output_type": "execute_result"
    }
   ],
   "source": [
    "sortByHeight([4, 2, 9, 11, 2, 16])"
   ]
  },
  {
   "cell_type": "code",
   "execution_count": 225,
   "metadata": {},
   "outputs": [
    {
     "data": {
      "text/plain": [
       "[-1, -1]"
      ]
     },
     "execution_count": 225,
     "metadata": {},
     "output_type": "execute_result"
    }
   ],
   "source": [
    "sortByHeight([-1,-1])"
   ]
  }
 ],
 "metadata": {
  "kernelspec": {
   "display_name": "Python 3",
   "language": "python",
   "name": "python3"
  },
  "language_info": {
   "codemirror_mode": {
    "name": "ipython",
    "version": 3
   },
   "file_extension": ".py",
   "mimetype": "text/x-python",
   "name": "python",
   "nbconvert_exporter": "python",
   "pygments_lexer": "ipython3",
   "version": "3.7.3"
  }
 },
 "nbformat": 4,
 "nbformat_minor": 2
}
